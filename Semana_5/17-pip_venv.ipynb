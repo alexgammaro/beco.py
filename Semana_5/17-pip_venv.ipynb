{
 "cells": [
  {
   "cell_type": "markdown",
   "metadata": {},
   "source": [
    "# MAIS UM POUCO SOBRE O PIP\n",
    "\n",
    "<center><img width=\"40%\"  src=\"https://cdn.activestate.com/wp-content/uploads/2019/12/how-to-install-pip-on-windows.png\"></center>\n",
    "\n",
    "O `pip` como já vimos anteriormente, é o instalador de pacotes do Python, como ele é poss;ivel gerenciar toda a estrutura de pacotes e versões instaladas em nosso ambiante.\n",
    "\n",
    "Por padrão o `pip` instala pacotes do repositório oficial do Python [pypi.org](https://pypi.org/).\n",
    "\n",
    "Existem várias \"tricks\" que podemos utilizar como o `pip` para agilizar e manter a integridade de nosso ambiente de desenvolvimento.\n",
    "\n",
    "## Comandos úteis do pip\n",
    "\n",
    "Todos os comandos do `pip` são execudados via terminal, seja o `cmd` no Windows, ou o `shell` no Linux (ou qualquer outro que possa ter).\n",
    "\n",
    "### Verificando as opções do pip\n",
    "\n",
    "Para sabermos todos os comandos do pip, podemos passar como parâmetro o `-h` ou `--help`. "
   ]
  },
  {
   "cell_type": "code",
   "execution_count": null,
   "metadata": {},
   "outputs": [],
   "source": [
    "# listando as opções do pip (não precisa do \"!\" para executar no terminal)\n",
    "\n",
    "!pip -h"
   ]
  },
  {
   "cell_type": "markdown",
   "metadata": {},
   "source": [
    "### Atualizando o pip\n",
    "\n",
    "Assim como todos os pacotes do Python, o pip também passa por upgrades e atualizações, geralmente o próprio pip te avisa quando está desatualizado ao instalar uma biblioteca.\n",
    "\n",
    "Para atualizá-lo, utilizamos o comando:\n",
    "\n",
    "```\n",
    "pip install --upgrade pip\n",
    "```\n",
    "\n",
    "ou\n",
    "\n",
    "```\n",
    "python3 -m pip install --upgrade pip\n",
    "```\n",
    "---\n",
    "### Instalando módulos\n",
    "\n",
    "Conforme vimos anteriormente, podemos instalar módulos do Python utilizando o comando `pip install <módulo>`.\n",
    "\n",
    "Quando utilizamos este comando `fora de um ambiente virtual do Python`, o módulo é instalado de forma `global`, ou seja, o pacote é instalado para todos os usuários do host.\n",
    "\n",
    "É possível instalar uma biblioteca somente para um usuário, especificando o parâmetro `--user` para o pip ficando desta forma:\n",
    "\n",
    "```\n",
    "pip install --user <módulo>\n",
    "```\n",
    "\n",
    "Desta forma, o módulo ficará disponível somente para o usuário que fez a instalação.\n",
    "\n",
    "---\n",
    "### Desinstalando módulos\n",
    "\n",
    "Para desinstalar um módulo, o comando é tão simples quanto para instalar:\n",
    "\n",
    "```\n",
    "pip uninstall <módulo>\n",
    "```\n",
    "\n",
    "O pip irá pedir a confirmação para a remoção do módulo e fará sua desinstalação.\n",
    "\n",
    "---\n",
    "### Mostrando informações sobre um módulo\n",
    "\n",
    "É possível verificar informações sobre um módulo instalado, como versão, diretório de instalação, suas dependências, entre outros com o parâmetro `show`.\n",
    "\n",
    "```\n",
    "pip show <módulo>\n",
    "```"
   ]
  },
  {
   "cell_type": "code",
   "execution_count": null,
   "metadata": {},
   "outputs": [],
   "source": [
    "# mostrnado informações sobre um módulo (não precisa do \"!\" para executar no terminal)\n",
    "\n",
    "!pip show mysql-connector-python"
   ]
  },
  {
   "cell_type": "markdown",
   "metadata": {},
   "source": [
    "### Listando todos os módulos instalados\n",
    "\n",
    "Podemos listar todos os módulos instalados no host com o parâmetro `list`. \n",
    "\n",
    "```\n",
    "pip list\n",
    "```\n",
    "\n",
    "**Complemento:** Este comando também aceita o parâmetro `--user`."
   ]
  },
  {
   "cell_type": "code",
   "execution_count": null,
   "metadata": {},
   "outputs": [],
   "source": [
    "# listando os módulos instalados (não precisa do \"!\" para executar no terminal)\n",
    "\n",
    "!pip list"
   ]
  },
  {
   "cell_type": "markdown",
   "metadata": {},
   "source": [
    "### Listando módulos desatualizados\n",
    "\n",
    "É possível checar por módulos desatualizados com o parâmetro `list` acrescido de `-o` ou `--outdated`.\n",
    "\n",
    "```\n",
    "pip list -o\n",
    "```"
   ]
  },
  {
   "cell_type": "code",
   "execution_count": null,
   "metadata": {},
   "outputs": [],
   "source": [
    "# listando os módulos desatualizados (não precisa do \"!\" para executar no terminal)\n",
    "\n",
    "!pip list -o"
   ]
  },
  {
   "cell_type": "markdown",
   "metadata": {},
   "source": [
    "### Exportando módulos no formato \"requiremets\"\n",
    "\n",
    "Quando criamos um projeto que será utilizado por outras pessoas, é preciso exportar uma lista com todos os módulos utilizados naquele projeto.\n",
    "\n",
    "Por padrão, exportamos para um arquivo chamado `requirements.txt`, este arquivo contém todos os módulos e suas respectivas versões utilizadas no projeto.\n",
    "\n",
    "Saber o módulo e a versão exata utilizada, garante que o projeto irá funcionar em todos os ambientes compatíveis.\n",
    "\n",
    "Para listar os módulos no formato `requirements` utilizamos o parâmetro `freeze`.\n",
    "\n",
    "```\n",
    "pip freeze\n",
    "```\n",
    "\n",
    "Para exportar para um arquivo, direcionamos a saída do pip para o arquivo:\n",
    "\n",
    "```\n",
    "pip freeze > requirements.txt\n",
    "```\n",
    "\n",
    "#### Observação importante:\n",
    "\n",
    "> Quando utilizamos o `freeze sem o uso de um ambiente virtual`, ele informará **TODAS** as bibliotecas instaladas no host, o que não é uma boa prática."
   ]
  },
  {
   "cell_type": "code",
   "execution_count": null,
   "metadata": {},
   "outputs": [],
   "source": [
    "# listando os módulos no padrão requirements (não precisa do \"!\" para executar no terminal)\n",
    "\n",
    "!pip freeze"
   ]
  },
  {
   "cell_type": "markdown",
   "metadata": {},
   "source": [
    "### Instalando multiplos módulos do arquivo requirements\n",
    "\n",
    "Quando vamos utilizar um projeto que já possua um arquivo `requirements.txt`, podemos instalar todos os módulos de uma vez com o parâmetro `-r`.\n",
    "\n",
    "```\n",
    "pip install -r requirements.txt\n",
    "```\n",
    "\n",
    "Este comando irá ler os módulos do arquivo e instalá-los em suas respectivas versões.\n",
    "\n",
    "---"
   ]
  },
  {
   "cell_type": "markdown",
   "metadata": {},
   "source": [
    "# AMBIENTE VIRTUAL DO PYTHON\n",
    "\n",
    "Para fins de manter a integridade de projetos, existe o `ambiente virtual do Python` ou `virtualenv`.\n",
    "\n",
    "O virtualenv, faz um \"clone\" da instalação básica do Python para o diretório especificado, porém com um repositório próprio de módulos.\n",
    "\n",
    "Quando criamos um virtualenv, este ambiente cria a árvore de módulos no diretório especificado, porém não clona nenhum módulo, ou seja, temos um Python limpo e pronto para receber somente os módulos necessários para o projeto.\n",
    "\n",
    "Isto aumenta a integridade do projeto de várias formas:\n",
    "\n",
    "* Não causa incompatibilidade entre versões de módulos\n",
    "* Contém somente os módulos necessários para o projeto\n",
    "* Pode ser utilizado tanto para o desenvolvimento quanto para a execução do projeto sem afetar a instalação principal do Python\n",
    "\n",
    "Para instalarmos o módulo virtualenv, utilizamos o comando:\n",
    "\n",
    "```\n",
    "pip install virtualenv\n",
    "```\n",
    "\n",
    "---\n",
    "## Criando um ambiente virtual\n",
    "\n",
    "Para criarmos um ambiente virtual, precisamos chamar o módulo e especificar o diretório onde será criado junto com o nome que terá:\n",
    "\n",
    "```\n",
    "virtualenv /path/do/ambiente/nome\n",
    "```\n",
    "\n",
    "ou\n",
    "\n",
    "```\n",
    "python3 -m virtualenv /path/do/ambiente/nome\n",
    "```"
   ]
  },
  {
   "cell_type": "markdown",
   "metadata": {},
   "source": [
    "---\n",
    "## Ativando um ambiente virtual\n",
    "\n",
    "Após a criação do ambiente, precisamos ativá-lo para iniciar o desenvolvimento ou execução de um projeto. Desta forma, tudo que for instalado não será feito na instalação principal do Python, mas sim no ambiente virtual.\n",
    "\n",
    "Para ativar o ambiente, utilizamos o comando:\n",
    "\n",
    "**Linux/MacOS**\n",
    "```\n",
    "source /path/do/ambiente/nome/activate\n",
    "```\n",
    "\n",
    "**Windows**\n",
    "```\n",
    ".\\path\\do\\ambiente\\nome\\activate\n",
    "```"
   ]
  },
  {
   "cell_type": "markdown",
   "metadata": {},
   "source": [
    "---\n",
    "## Desativando o ambiente virtual\n",
    "\n",
    "Para voltarmos ao ambiente principal do Python, precisamos desativar o ambiente virtual como comando:\n",
    "\n",
    "\n",
    "**Linux/MacOS**\n",
    "```\n",
    "source /path/do/ambiente/nome/deactivate\n",
    "```\n",
    "\n",
    "**Windows**\n",
    "```\n",
    ".\\path\\do\\ambiente\\nome\\deactivate\n",
    "```\n",
    "\n",
    "## Links úteis\n",
    "\n",
    "* [Documentação do pip](https://pip.pypa.io/en/stable/)\n",
    "* [Documentação do ambiente virtual](https://virtualenv.pypa.io/en/latest/)"
   ]
  }
 ],
 "metadata": {
  "interpreter": {
   "hash": "916dbcbb3f70747c44a77c7bcd40155683ae19c65e1c03b4aa3499c5328201f1"
  },
  "kernelspec": {
   "display_name": "Python 3.9.2 64-bit",
   "language": "python",
   "name": "python3"
  },
  "language_info": {
   "codemirror_mode": {
    "name": "ipython",
    "version": 3
   },
   "file_extension": ".py",
   "mimetype": "text/x-python",
   "name": "python",
   "nbconvert_exporter": "python",
   "pygments_lexer": "ipython3",
   "version": "3.10.1"
  },
  "orig_nbformat": 4
 },
 "nbformat": 4,
 "nbformat_minor": 2
}
