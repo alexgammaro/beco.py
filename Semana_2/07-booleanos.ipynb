{
 "cells": [
  {
   "cell_type": "markdown",
   "metadata": {},
   "source": [
    "# Booleanos, Operadores Relacionais e Operadores Lógicos\n",
    "\n",
    "## Booleanos\n",
    "\n",
    "<center><img width=\"50%\"  src=\"https://becodoexploit.com/morpheus.gif\"></center>\n",
    "\n",
    "Os **booleanos** ou **bool** são extremamente importantes em qualquer lógica de programação.\n",
    "\n",
    "São um tipo de dados que podem possuir somente **dois** tipos de valores: \n",
    "\n",
    "* `True` que também pode ser representado por `1`.\n",
    "* `False` que também pode ser representado por `0`"
   ]
  },
  {
   "cell_type": "markdown",
   "metadata": {},
   "source": [
    "type(True)"
   ]
  },
  {
   "cell_type": "code",
   "execution_count": null,
   "metadata": {},
   "outputs": [],
   "source": [
    "type(False)"
   ]
  },
  {
   "cell_type": "markdown",
   "metadata": {},
   "source": [
    "## Operadores Relacionais\n",
    "\n",
    "<center><img width=\"30%\"  src=\"https://github.com/leonardo-multiverso/img/blob/main/false.png?raw=true\"></center>\n",
    "\n",
    "Os operadores relacionais tem o intúito de fazer comparações entre valores retornando um `booleano` como resposta.\n",
    "\n",
    "São 6 os tipos de operadores relacionais:\n",
    "\n",
    "| **OPERADOR** | **REPRESENTA**    |\n",
    "|:------------:|:----------------:|\n",
    "| >            | Maior que        |\n",
    "| <            | Menor que        |\n",
    "| >=           | Maior ou igual a |\n",
    "| <=           | Menor or igual a |\n",
    "| ==           | Igual a          |\n",
    "| \\!=          | Diferente de     |\n",
    "\n",
    "Vamos ver alguns exemplos:"
   ]
  },
  {
   "cell_type": "code",
   "execution_count": null,
   "metadata": {},
   "outputs": [],
   "source": [
    "# Comparando strings\n",
    "\n",
    "'Beco' == 'Beco'"
   ]
  },
  {
   "cell_type": "markdown",
   "metadata": {},
   "source": [
    "Em ralaçao às strings, o Python é **case sensitive**, ou sejha, diferencia maiúsculas de minúsculas:"
   ]
  },
  {
   "cell_type": "code",
   "execution_count": null,
   "metadata": {},
   "outputs": [],
   "source": [
    "# Comparando strings\n",
    "\n",
    "'beco' == 'Beco'"
   ]
  },
  {
   "cell_type": "markdown",
   "metadata": {},
   "source": [
    "Também podemos comparar números"
   ]
  },
  {
   "cell_type": "code",
   "execution_count": null,
   "metadata": {},
   "outputs": [],
   "source": [
    "# comparando números\n",
    "\n",
    "18 == 18"
   ]
  },
  {
   "cell_type": "code",
   "execution_count": null,
   "metadata": {},
   "outputs": [],
   "source": [
    "# comparando números\n",
    "\n",
    "18 > 20"
   ]
  },
  {
   "cell_type": "code",
   "execution_count": null,
   "metadata": {},
   "outputs": [],
   "source": [
    "# operadores com variáveis\n",
    "\n",
    "status1 = 200\n",
    "status2 = 201\n",
    "\n",
    "status1 == status2"
   ]
  },
  {
   "cell_type": "code",
   "execution_count": null,
   "metadata": {},
   "outputs": [],
   "source": [
    "# operadores com variáveis e valores\n",
    "\n",
    "var = \"Beco do Exploit\"\n",
    "\n",
    "var == \"Beco do Exploit\""
   ]
  },
  {
   "cell_type": "markdown",
   "metadata": {},
   "source": [
    "Os operadores lógicos podem ser utilizados em diversos tipos de operações independente de sua complexidade:"
   ]
  },
  {
   "cell_type": "code",
   "execution_count": null,
   "metadata": {},
   "outputs": [],
   "source": [
    "# Comparando operações\n",
    "\n",
    "14 ** 2 / (75 /10) + 128 >= 150"
   ]
  },
  {
   "cell_type": "markdown",
   "metadata": {},
   "source": [
    "Já ao utilizar o operador `!=` (diferente), o Python busca a igualdade total entre os operandos, ou seja o dado 42 é diferente de '41'"
   ]
  },
  {
   "cell_type": "code",
   "execution_count": null,
   "metadata": {},
   "outputs": [],
   "source": [
    "# comparando tipos diferentes\n",
    "\n",
    "42 != '42'"
   ]
  },
  {
   "cell_type": "markdown",
   "metadata": {},
   "source": [
    "Os próprios boolenaos podem ser utilizados na comparação com seus representantes numéricos:"
   ]
  },
  {
   "cell_type": "code",
   "execution_count": null,
   "metadata": {},
   "outputs": [],
   "source": [
    "# comparando booleanos \n",
    "\n",
    "True == 1"
   ]
  },
  {
   "cell_type": "code",
   "execution_count": null,
   "metadata": {},
   "outputs": [],
   "source": [
    "# comparando booleanos \n",
    "\n",
    "False == 0"
   ]
  },
  {
   "cell_type": "markdown",
   "metadata": {},
   "source": [
    "## Operadores Lógicos\n",
    "\n",
    "Os operadores lógicos trabalham sobre os booleanos nos permitindo comparações de condições em cadeia.\n",
    "\n",
    "Os operadores lógicos que vamos utilizar a princípio são:\n",
    "\n",
    "| **OPERADORES LÓGICOS** | **REPRESENTA**                                         |\n",
    "|:----------------------:|:-----------------------------------------------------:|\n",
    "| and                    | Verifica se todas as expressões são verdadeiras       |\n",
    "| or                     | Verifica se pelo menos uma expressão é verdadeira     |\n",
    "| not                    | Verifica a negação da expressão\\. Inverte o resultado |\n",
    "\n",
    "### Operador AND\n",
    "\n",
    "O operador `AND` ou `E` nos retorna `True` caso todas as condições sejam verdadeiras:"
   ]
  },
  {
   "cell_type": "code",
   "execution_count": null,
   "metadata": {},
   "outputs": [],
   "source": [
    "# verifica se todas as condições são verdadeiras\n",
    "\n",
    "ssl = True\n",
    "timeout = 10\n",
    "\n",
    "(ssl) and (timeout <= 30)"
   ]
  },
  {
   "cell_type": "code",
   "execution_count": null,
   "metadata": {},
   "outputs": [],
   "source": [
    "# verifica se todas as condições são verdadeiras\n",
    "\n",
    "ssl = True\n",
    "timeout = 33\n",
    "\n",
    "(ssl) and (timeout <= 30)"
   ]
  },
  {
   "cell_type": "markdown",
   "metadata": {},
   "source": [
    "### Operador OR\n",
    "\n",
    "O operador `OR` retorna True caso `uma das condições` seja verdadeira:"
   ]
  },
  {
   "cell_type": "code",
   "execution_count": null,
   "metadata": {},
   "outputs": [],
   "source": [
    "# verifica se ao menos uma condição é verdadeira\n",
    "\n",
    "ssl = False\n",
    "timeout = 15\n",
    "\n",
    "(ssl) or (timeout <= 30)"
   ]
  },
  {
   "cell_type": "code",
   "execution_count": 8,
   "metadata": {},
   "outputs": [
    {
     "data": {
      "text/plain": [
       "True"
      ]
     },
     "execution_count": 8,
     "metadata": {},
     "output_type": "execute_result"
    }
   ],
   "source": [
    "status = 200\n",
    "\n",
    "(status == 200) or (status == 201) or (status == 203)\n"
   ]
  },
  {
   "cell_type": "markdown",
   "metadata": {},
   "source": [
    "### Operador NOT\n",
    "\n",
    "O operador `NOT` é o único que recebe somente um valor como entrada, e sua função é simplesmente a negação da operação, ou seja ele inverte o resultado."
   ]
  },
  {
   "cell_type": "code",
   "execution_count": null,
   "metadata": {},
   "outputs": [],
   "source": [
    "# negação do resultado\n",
    "\n",
    "valor = 10\n",
    "\n",
    "not valor == 15"
   ]
  },
  {
   "cell_type": "code",
   "execution_count": null,
   "metadata": {},
   "outputs": [],
   "source": [
    "# negação do resultado\n",
    "\n",
    "ssl = True\n",
    "\n",
    "not ssl"
   ]
  }
 ],
 "metadata": {
  "interpreter": {
   "hash": "31f2aee4e71d21fbe5cf8b01ff0e069b9275f58929596ceb00d14d90e3e16cd6"
  },
  "kernelspec": {
   "display_name": "Python 3.9.2 64-bit",
   "language": "python",
   "name": "python3"
  },
  "language_info": {
   "codemirror_mode": {
    "name": "ipython",
    "version": 3
   },
   "file_extension": ".py",
   "mimetype": "text/x-python",
   "name": "python",
   "nbconvert_exporter": "python",
   "pygments_lexer": "ipython3",
   "version": "3.9.2"
  },
  "orig_nbformat": 4
 },
 "nbformat": 4,
 "nbformat_minor": 2
}
