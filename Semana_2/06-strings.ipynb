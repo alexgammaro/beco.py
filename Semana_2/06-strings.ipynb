{
 "cells": [
  {
   "cell_type": "markdown",
   "metadata": {},
   "source": [
    "# Strings\n",
    "\n",
    "<center><img width=\"40%\"  src=\"https://github.com/leonardo-multiverso/img/blob/main/skull_string.jpg?raw=true\"></center>\n",
    "\n",
    "Podemos dizer que `strings` são todos aqueles caracteres declarados entre aspas, sejam elas simples ou duplas. Estes caracteres podem ser letras, números ou símbolos.\n",
    "\n",
    "É muito comum em nossos códigos, que precisemos manipular ou tratar as strings de alguma forma.\n"
   ]
  },
  {
   "cell_type": "code",
   "execution_count": null,
   "metadata": {},
   "outputs": [],
   "source": [
    "type('Beco do Exploit')"
   ]
  },
  {
   "cell_type": "markdown",
   "metadata": {},
   "source": [
    "Assim como já vimos anteriormente, é possível armazenar strings em variáveis para que possam ser utilizadas posteriormente durante o código."
   ]
  },
  {
   "cell_type": "code",
   "execution_count": null,
   "metadata": {},
   "outputs": [],
   "source": [
    "# armazenando strings em variáveis\n",
    "host = \"Beco do Exploit\"\n",
    "curso = \"beco.py\"\n",
    "\n",
    "# imprimindo as variáveis\n",
    "print(\"Estou fazendo o curso\", curso, \"\\nno\", host + \".\")"
   ]
  },
  {
   "cell_type": "markdown",
   "metadata": {},
   "source": [
    "## Funções de strings\n",
    "\n",
    "O Python também possui uma série de funções específicas que podem ser utilizadas na manipulação de strings (e em vários outros casos) que veremos a seguir.\n",
    "\n",
    "### Função len()\n",
    "\n",
    "A função `len()` é utilizada para retornar o tamanho de uma string em caracteres, sempre retorna um valor do tipo `int` e seu uso é muito simples."
   ]
  },
  {
   "cell_type": "code",
   "execution_count": null,
   "metadata": {},
   "outputs": [],
   "source": [
    "# verificando o tamanho de uma hash MD5\n",
    "\n",
    "hash = \"8ae8d09848dfe257d8729cce275b982c\"\n",
    "\n",
    "len(hash)"
   ]
  },
  {
   "cell_type": "markdown",
   "metadata": {},
   "source": [
    "### Função replace()\n",
    "\n",
    "A função `replace()`, assim como seu nome sugere, serve para substituir valoresm dentro de uma string.\n",
    "\n",
    "Seu formato segue a ordem:\n",
    "> `variável.replace(\"valor a ser encontrado\", \"valor para substituí-lo\")`"
   ]
  },
  {
   "cell_type": "code",
   "execution_count": null,
   "metadata": {},
   "outputs": [],
   "source": [
    "# criando a variável que contém a string\n",
    "\n",
    "alvo = \"https://sitealvo.com/\"\n",
    "\n",
    "alvo.replace(\"https\", \"http\")"
   ]
  },
  {
   "cell_type": "markdown",
   "metadata": {},
   "source": [
    "Também é possível utilizar o `replace()` para \"limpar\" certos caracteres, bastando substituí-los por uma string vazia."
   ]
  },
  {
   "cell_type": "code",
   "execution_count": null,
   "metadata": {},
   "outputs": [],
   "source": [
    "# criando a variável que contém a string\n",
    "\n",
    "alvo = \"https://sitealvo.com/\"\n",
    "\n",
    "alvo.replace(\"https://\", \"\")"
   ]
  },
  {
   "cell_type": "markdown",
   "metadata": {},
   "source": [
    "Assim como também é possível utilizar a `replace()` em cadeia"
   ]
  },
  {
   "cell_type": "code",
   "execution_count": null,
   "metadata": {},
   "outputs": [],
   "source": [
    "# criando a variável que contém a string\n",
    "\n",
    "alvo = \"https://sitealvo.com/\"\n",
    "\n",
    "alvo.replace(\"https://\", \"\").replace(\"/\", \"\")"
   ]
  },
  {
   "cell_type": "markdown",
   "metadata": {},
   "source": [
    "### Função split()\n",
    "\n",
    "A função `split()` se baseia em um delimitador para \"separar\" strings e transformá-las em uma `lista` (vamos abordar listas em próximas aulas).\n",
    "\n",
    "Na string abaixo, temos um exemplo de credenciais `user, pass` juntas em uma string e separadas por vírgula, precisamos separá-las para utilizarmos em outras funções."
   ]
  },
  {
   "cell_type": "code",
   "execution_count": null,
   "metadata": {},
   "outputs": [],
   "source": [
    "# criando a variável que contém o usuário e senha\n",
    "\n",
    "creds = \"batata,batata@123\"\n",
    "\n",
    "creds.split(\",\")"
   ]
  },
  {
   "cell_type": "markdown",
   "metadata": {},
   "source": [
    "### Função strip()\n",
    "\n",
    "A função `strip()` remove caracteres indesejados ou espaços em branco antes e após a string de interesse. Muitas vezes durante uma enumeração recebemos dados não formatados e precisamos \"limpá-los\" para serem utilizados."
   ]
  },
  {
   "cell_type": "code",
   "execution_count": null,
   "metadata": {},
   "outputs": [],
   "source": [
    "# variável com espaços em branco\n",
    "\n",
    "status = \"       <   HTTP/1.1 301 Moved Permanently   \"\n",
    "status.strip()"
   ]
  },
  {
   "cell_type": "code",
   "execution_count": null,
   "metadata": {},
   "outputs": [],
   "source": [
    "# variável com caractere indesejado\n",
    "\n",
    "status = \"<H1>301 Moved\"\n",
    "status.strip(\"<H1>\")"
   ]
  },
  {
   "cell_type": "markdown",
   "metadata": {},
   "source": [
    "Também podemos utilizar algumas funções em conjunto a fim de limpar a string."
   ]
  },
  {
   "cell_type": "code",
   "execution_count": null,
   "metadata": {},
   "outputs": [],
   "source": [
    "# variável com espaços em branco\n",
    "\n",
    "status = \"       <   HTTP/1.1 301 Moved Permanently   \"\n",
    "status = status.replace(\"<\", \"\")\n",
    "status = status.replace('HTTP/1.1 ', '')\n",
    "status = status.strip()\n",
    "status = status.split(' ')\n",
    "print(status)"
   ]
  },
  {
   "cell_type": "markdown",
   "metadata": {},
   "source": [
    "## Conversão de strings\n",
    "\n",
    "Conversões de strings são muito úteis para validação e comparação entre um mesmo dado inputado de formas diferentes.\n",
    "\n",
    "Podemos converter toda uma string em minúscula, maúscula, entre outros.\n",
    "\n",
    "### Função lower()\n",
    "\n",
    "A função `lower()` converte toda a string em minúscula."
   ]
  },
  {
   "cell_type": "code",
   "execution_count": null,
   "metadata": {},
   "outputs": [],
   "source": [
    "# transformando string em minúsculo\n",
    "\n",
    "nome = 'BECO DO EXPLOIT'\n",
    "nome.lower()"
   ]
  },
  {
   "cell_type": "markdown",
   "metadata": {},
   "source": [
    "### Função upper()\n",
    "\n",
    "Já a função `upper()` converte toda a string em maiúscula."
   ]
  },
  {
   "cell_type": "code",
   "execution_count": null,
   "metadata": {},
   "outputs": [],
   "source": [
    "# transformando string em maiúsculo\n",
    "\n",
    "nome = \"beco do exploit\"\n",
    "nome.upper()"
   ]
  },
  {
   "cell_type": "markdown",
   "metadata": {},
   "source": [
    "### Função capitalize()\n",
    "\n",
    "A função `capitalize()` converte o primeiro caractere da string em maiúscula."
   ]
  },
  {
   "cell_type": "code",
   "execution_count": null,
   "metadata": {},
   "outputs": [],
   "source": [
    "nome = \"beco do exploit\"\n",
    "nome.capitalize()"
   ]
  },
  {
   "cell_type": "markdown",
   "metadata": {},
   "source": [
    "### Função title()\n",
    "\n",
    "A função `title()` converte o primeiro caractere de cada palavra em maiúscula."
   ]
  },
  {
   "cell_type": "code",
   "execution_count": null,
   "metadata": {},
   "outputs": [],
   "source": [
    "nome = \"beco do exploit\"\n",
    "nome.title()"
   ]
  },
  {
   "cell_type": "markdown",
   "metadata": {},
   "source": [
    "### Função swapcase()\n",
    "\n",
    "A função `swapcase()` inverte a capitalização de uma string."
   ]
  },
  {
   "cell_type": "code",
   "execution_count": null,
   "metadata": {},
   "outputs": [],
   "source": [
    "nome = \"Beco Do Exploit\"\n",
    "nome.swapcase()"
   ]
  },
  {
   "cell_type": "markdown",
   "metadata": {},
   "source": [
    "## Slicing\n",
    "\n",
    "<center><img width=\"30%\"  src=\"https://github.com/leonardo-multiverso/img/blob/main/samurai.jpg?raw=true\"></center>\n",
    "\n",
    "O `slicing` em Python, é uma técnica que nos permite \"fatiar\" nossas strings (e outros elementos que veremos no futuro).\n",
    "\n",
    "Se tratando de uma string, é possível acessar determinados grupos caracteres bastando informar a variável a ser fatiada seguida do índice dentro de colchetes.\n",
    "\n",
    "**É importante lembrar que os índices em Python começam em zero.**\n",
    "\n",
    "Primeiramente, podemos acessar cada caractere de uma string individualmente. Tendo como exemplo a string \"Beco\", os índices ficam desta forma:\n",
    "\n",
    "| **[0]** | **[1]** | **[2]** | **[3]** |\n",
    "|:-----:|:-----:|:-----:|:-----:|\n",
    "| B     | e     | c     | o     |\n",
    "| **[-4]** | **[-3]** | **[-2]** | **[-1]** |\n"
   ]
  },
  {
   "cell_type": "code",
   "execution_count": null,
   "metadata": {},
   "outputs": [],
   "source": [
    "# para acessar o primeiro caractere da string\n",
    "\n",
    "nome = \"Beco\"\n",
    "nome[0]"
   ]
  },
  {
   "cell_type": "code",
   "execution_count": null,
   "metadata": {},
   "outputs": [],
   "source": [
    "# para acessar o terceiro caractere da string\n",
    "\n",
    "nome = \"Beco\"\n",
    "nome[2]"
   ]
  },
  {
   "cell_type": "code",
   "execution_count": null,
   "metadata": {},
   "outputs": [],
   "source": [
    "# para acessar o ultimo caractere da string\n",
    "\n",
    "nome = \"Beco\"\n",
    "nome[-1]"
   ]
  },
  {
   "cell_type": "code",
   "execution_count": null,
   "metadata": {},
   "outputs": [],
   "source": [
    "# para acessar o penultimo caractere da string\n",
    "\n",
    "nome = \"Beco\"\n",
    "nome[-2]"
   ]
  },
  {
   "cell_type": "markdown",
   "metadata": {},
   "source": [
    "Além de acessar caracteres individuais, também podemos pegar um trecho da string bastando inserir dentro dos colchetes o índice inicial e o final, separados por `:`.\n",
    "\n",
    "É de extrema importância saber que a posição do índice final, não é incluída no slincing. Exemplo:\n",
    "\n",
    "`nome[1:3]` \n",
    "\n",
    "Retorna:\n",
    "\n",
    "| **[1]** | **[2]** |\n",
    "|:-----:|:-----:|\n",
    "| e     | c     |\n"
   ]
  },
  {
   "cell_type": "code",
   "execution_count": null,
   "metadata": {},
   "outputs": [],
   "source": [
    "nome = \"Beco\"\n",
    "nome[1:3]"
   ]
  },
  {
   "cell_type": "markdown",
   "metadata": {},
   "source": [
    "Se omitirmos o primeiro índice, o Python fatia a partir do primeiro caractere."
   ]
  },
  {
   "cell_type": "code",
   "execution_count": null,
   "metadata": {},
   "outputs": [],
   "source": [
    "nome = \"Beco\"\n",
    "nome[:3]"
   ]
  },
  {
   "cell_type": "markdown",
   "metadata": {},
   "source": [
    "E se omitirmos o índice final, o Python fatia do índice inicial até o final da string."
   ]
  },
  {
   "cell_type": "code",
   "execution_count": null,
   "metadata": {},
   "outputs": [],
   "source": [
    "nome = \"Beco do Exploit\"\n",
    "nome[2:]"
   ]
  },
  {
   "cell_type": "markdown",
   "metadata": {},
   "source": [
    "Também conseguimos adicionar um `step` para \"pular\" os caracteres, para isto, basta adicionarmos um índice a mais, indicando o step.\n",
    "\n",
    "Por exemplo, se tivermos uma string que vai de 0 a 9, podemos imprimir os caracteres pulando de 2 em 2, ou outro step que caiba."
   ]
  },
  {
   "cell_type": "code",
   "execution_count": null,
   "metadata": {},
   "outputs": [],
   "source": [
    "# nesta string, informamos que queremos do primeiro índice até o ultimo \":\", e adicionamos um step de 2 \":2\"\n",
    "seq = '0123456789'\n",
    "seq[::2]"
   ]
  },
  {
   "cell_type": "code",
   "execution_count": null,
   "metadata": {},
   "outputs": [],
   "source": [
    "# da mesma forma, podemos informar um step maior\n",
    "seq = '0123456789'\n",
    "seq[::3]"
   ]
  },
  {
   "cell_type": "code",
   "execution_count": null,
   "metadata": {},
   "outputs": [],
   "source": [
    "# da mesma forma, podemos informar um step maior dentro de outra fatia\n",
    "seq = '0123456789'\n",
    "seq[3:8:3]"
   ]
  },
  {
   "cell_type": "markdown",
   "metadata": {},
   "source": [
    "## Exercícios para treinar\n",
    "\n",
    "1. Associe a string \"Python é sensacional.\" à uma variável e depois transforme-a em maiúscula\n",
    "2. Utilize a mesma frase, mas agora transforme-a em minúscula\n",
    "3. Associe a string \"Estou aprendendo Python no Beco do Exploit.\" à uma variável e fatie para imprimir o primeiro caractere.\n",
    "4. Utilize a mesma variável, mas agora imprima a quantidade de caracteres da string.\n",
    "5. Imprima os 5 primeiros caracteres da variável. (O resultado deve ser `\"Estou\"`)\n",
    "6. Imprima do caractere 6 até o caractere 15. (O resultado deve ser `\"aprendendo\"`)\n",
    "7. Imprima do caractere 0 até o final com um `step` de 4 caracteres. (O resultado deve ser `\"Eure hnedxi\"`)\n",
    "8. Substitua o valor `\"Exploit\"` por `\"XPL\"` na string.\n",
    "9. Associe a string \"arch,x86,x64\" a uma variável e depois separe as arquiteturas por vírgula. (O resultado deve ser `['arch', 'x86', 'x64']`)\n",
    "10. Associe a string `\"   <Autodiscover xmlns=\"http://schemas.microsoft.com/exchange/autodiscover/responseschema/2006\">\"` e utilize o que aprendeu para retornar somente `schemas.microsoft.com`."
   ]
  },
  {
   "cell_type": "markdown",
   "metadata": {},
   "source": [
    "## Para leitura\n",
    "\n",
    "[Strings and Character Data in Python](https://realpython.com/python-strings/)"
   ]
  }
 ],
 "metadata": {
  "interpreter": {
   "hash": "31f2aee4e71d21fbe5cf8b01ff0e069b9275f58929596ceb00d14d90e3e16cd6"
  },
  "kernelspec": {
   "display_name": "Python 3.9.2 64-bit",
   "language": "python",
   "name": "python3"
  },
  "language_info": {
   "codemirror_mode": {
    "name": "ipython",
    "version": 3
   },
   "file_extension": ".py",
   "mimetype": "text/x-python",
   "name": "python",
   "nbconvert_exporter": "python",
   "pygments_lexer": "ipython3",
   "version": "3.9.2"
  },
  "orig_nbformat": 4
 },
 "nbformat": 4,
 "nbformat_minor": 2
}
