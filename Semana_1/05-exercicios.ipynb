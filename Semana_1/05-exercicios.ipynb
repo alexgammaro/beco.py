{
 "cells": [
  {
   "cell_type": "markdown",
   "metadata": {},
   "source": [
    "# Exercícios e Leituras\n",
    "\n",
    "<center><img width=\"40%\"  src=\"https://raw.githubusercontent.com/leonardo-multiverso/img/main/beco.jpeg\"></center>\n",
    "\n",
    "Até o momento passamos pela fase introdutória de Python, o que ainda está ainda está longe de ser algo completo, sem o desenvolvimento de pesquisas externas.\n",
    "\n",
    "Abaixo deixo algumas leituras para serem feitas ao longo da semana que aumentarão muito o nível de entendimento.\n",
    "\n",
    "## Pesquise sobre\n",
    "\n",
    "* Programação orientada a objeto\n",
    "\n",
    "## Links para leitura\n",
    "\n",
    "* [Documentação do Python](https://docs.python.org/pt-br/3/)\n",
    "* [Operators and Expressions in Python](https://realpython.com/python-operators-expressions/)\n",
    "* [Variables in Python](https://realpython.com/python-variables/)\n",
    "* [Basic Data Types in Python](https://realpython.com/python-data-types/)\n",
    "\n",
    "[GitHub do treinamento](https://github.com/h41stur/beco.py)"
   ]
  }
 ],
 "metadata": {
  "interpreter": {
   "hash": "916dbcbb3f70747c44a77c7bcd40155683ae19c65e1c03b4aa3499c5328201f1"
  },
  "kernelspec": {
   "display_name": "Python 3.9.2 64-bit",
   "language": "python",
   "name": "python3"
  },
  "language_info": {
   "name": "python",
   "version": "3.9.2"
  },
  "orig_nbformat": 4
 },
 "nbformat": 4,
 "nbformat_minor": 2
}
