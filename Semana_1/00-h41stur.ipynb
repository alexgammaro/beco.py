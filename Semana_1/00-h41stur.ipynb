{
 "cells": [
  {
   "cell_type": "markdown",
   "metadata": {},
   "source": [
    "# H41stur\n",
    "<h6>Leonardo Toledo</h6>\n",
    "\n",
    "<center><img width=\"20%\"  src=\"https://static.wikia.nocookie.net/lovecraft/images/a/a6/The_Yellow_Sign.jpg/revision/latest/scale-to-width-down/500?cb=20161006134025\"></center>\n",
    "\n",
    "Graduado em Engenharia Mecânica, pós graduado em Inteligência de Negócios e MBA em Big Data e Inteligência na Gestão de Dados.\n",
    "\n",
    "* Análise de comportamento fraudulento em cartão de crédito\n",
    "* Análise de comportamento suspeito de acesso em sistemas\n",
    "* CEO multiversoBI\n",
    "  * Pentester\n",
    "  * Especialista em comportamento de consumo\n",
    "  * Gestão de dados e acessos da rede pública de ensino e saúde (municípios de SP)\n"
   ]
  }
 ],
 "metadata": {
  "interpreter": {
   "hash": "31f2aee4e71d21fbe5cf8b01ff0e069b9275f58929596ceb00d14d90e3e16cd6"
  },
  "kernelspec": {
   "display_name": "Python 3.9.2 64-bit",
   "language": "python",
   "name": "python3"
  },
  "language_info": {
   "codemirror_mode": {
    "name": "ipython",
    "version": 3
   },
   "file_extension": ".py",
   "mimetype": "text/x-python",
   "name": "python",
   "nbconvert_exporter": "python",
   "pygments_lexer": "ipython3",
   "version": "3.9.2"
  },
  "orig_nbformat": 4
 },
 "nbformat": 4,
 "nbformat_minor": 2
}
