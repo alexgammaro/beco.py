{
 "cells": [
  {
   "cell_type": "markdown",
   "metadata": {},
   "source": [
    "# Hello World!\n",
    "\n",
    "<center><img width=\"50%\"  src=\"https://github.com/leonardo-multiverso/img/blob/main/hello-world.gif?raw=true\"></center>\n",
    "\n",
    "Como não podíamos deixar de fora a tradição, vamos iniciar com o **`Hello World!`**, porém, vamos fazer um \"Hello World avançado\".\n",
    "\n",
    "A diretiva mais simples em Python é a diretiva \"print\", ela simplesmente imprime uma linha (e também inclui uma nova linha, ao contrário de C).\n",
    "\n",
    "Existem duas versões principais do Python, Python 2 e Python 3. Python 2 e 3 são bastante diferentes. Obviamente, em nossos estudos vamos utilizar o **Python 3**, pois é semanticamente correto e oferece suporte a recursos mais novos.\n",
    "\n",
    "Por exemplo, uma diferença entre Python 2 e 3 é a instrução de impressão. No Python 2, a instrução \"print\" não é uma função e, portanto, é chamada sem parênteses. No entanto, no Python 3, é uma função e deve ser chamada entre parênteses.\n",
    "\n"
   ]
  },
  {
   "cell_type": "code",
   "execution_count": 1,
   "metadata": {},
   "outputs": [
    {
     "name": "stdout",
     "output_type": "stream",
     "text": [
      "Hello World!\n"
     ]
    }
   ],
   "source": [
    "# print \"Hello World!\"\n",
    "print(\"Hello World!\")"
   ]
  },
  {
   "cell_type": "markdown",
   "metadata": {},
   "source": [
    "A função `print()` nos permite imprimir números:"
   ]
  },
  {
   "cell_type": "code",
   "execution_count": 2,
   "metadata": {},
   "outputs": [
    {
     "name": "stdout",
     "output_type": "stream",
     "text": [
      "1234\n"
     ]
    }
   ],
   "source": [
    "print(1234)"
   ]
  },
  {
   "cell_type": "code",
   "execution_count": 4,
   "metadata": {},
   "outputs": [
    {
     "name": "stdout",
     "output_type": "stream",
     "text": [
      "beco\n",
      "\n",
      "\n",
      "\n",
      "\n",
      "do exploit\n"
     ]
    }
   ],
   "source": [
    "print(\"beco\")\n",
    "print(\"do exploit\")"
   ]
  },
  {
   "cell_type": "markdown",
   "metadata": {},
   "source": [
    "Nos permite imprimir textos com algumas configurações."
   ]
  },
  {
   "cell_type": "code",
   "execution_count": 5,
   "metadata": {},
   "outputs": [
    {
     "name": "stdout",
     "output_type": "stream",
     "text": [
      "beco-do exploit.\n"
     ]
    }
   ],
   "source": [
    "# espaçadores\n",
    "print(\"beco\", end=\"-\")\n",
    "print(\"do exploit.\")"
   ]
  },
  {
   "cell_type": "code",
   "execution_count": 6,
   "metadata": {},
   "outputs": [
    {
     "name": "stdout",
     "output_type": "stream",
     "text": [
      "host\t\tporta\n",
      "127.0.0.1\t3306\n"
     ]
    }
   ],
   "source": [
    "# tabulação\n",
    "print(\"host\\t\\tporta\")\n",
    "print(\"127.0.0.1\\t3306\")"
   ]
  },
  {
   "cell_type": "markdown",
   "metadata": {},
   "source": [
    "Também pode imprimir valores de variáveis"
   ]
  },
  {
   "cell_type": "code",
   "execution_count": 7,
   "metadata": {},
   "outputs": [
    {
     "name": "stdout",
     "output_type": "stream",
     "text": [
      "Python Beco do Exploit\n"
     ]
    }
   ],
   "source": [
    "curso = \"Python\"\n",
    "host = \"Beco do Exploit\"\n",
    "print(curso, host)"
   ]
  },
  {
   "cell_type": "markdown",
   "metadata": {},
   "source": [
    "Pode imprimir texto com variéveis"
   ]
  },
  {
   "cell_type": "code",
   "execution_count": 8,
   "metadata": {},
   "outputs": [
    {
     "name": "stdout",
     "output_type": "stream",
     "text": [
      "Estou fazendo o curso de Python no Beco do Exploit.\n",
      "Estou fazendo o curso de Python no Beco do Exploit.\n",
      "Estou fazendo o curso de Python no Beco do Exploit.\n"
     ]
    }
   ],
   "source": [
    "curso = \"Python\"\n",
    "host = \"Beco do Exploit\"\n",
    "# opção 1\n",
    "print(\"Estou fazendo o curso de %s no %s.\" %(curso, host))\n",
    "\n",
    "# opção 2\n",
    "print(\"Estou fazendo o curso de {} no {}.\".format(curso, host))\n",
    "\n",
    "# opção 3\n",
    "print(f\"Estou fazendo o curso de {curso} no {host}.\")"
   ]
  },
  {
   "cell_type": "markdown",
   "metadata": {},
   "source": [
    "## Leitura\n",
    "\n",
    "[Hello, World!](https://www.learnpython.org/en/Hello,_World!)\n",
    "\n",
    "[Documentação oficial do Python](https://docs.python.org/pt-br/3/)"
   ]
  }
 ],
 "metadata": {
  "interpreter": {
   "hash": "31f2aee4e71d21fbe5cf8b01ff0e069b9275f58929596ceb00d14d90e3e16cd6"
  },
  "kernelspec": {
   "display_name": "Python 3.9.2 64-bit",
   "language": "python",
   "name": "python3"
  },
  "language_info": {
   "codemirror_mode": {
    "name": "ipython",
    "version": 3
   },
   "file_extension": ".py",
   "mimetype": "text/x-python",
   "name": "python",
   "nbconvert_exporter": "python",
   "pygments_lexer": "ipython3",
   "version": "3.9.2"
  },
  "orig_nbformat": 4
 },
 "nbformat": 4,
 "nbformat_minor": 2
}
