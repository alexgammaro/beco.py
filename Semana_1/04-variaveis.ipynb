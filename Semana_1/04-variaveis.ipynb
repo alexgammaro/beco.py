{
 "cells": [
  {
   "cell_type": "markdown",
   "metadata": {},
   "source": [
    "# Tipos de Variáveis\n",
    "\n",
    "<center><img width=\"40%\"  src=\"https://github.com/leonardo-multiverso/img/blob/main/var.gif?raw=true\"></center>\n",
    "\n",
    "O Python nos permite associar valores à variáveis para que possam ser acessados a qualquer momento durante a execução do código.\n",
    "\n",
    "A grosso modo, uma variável é um \"nome\" atribuído à um objeto que pode ser de qualquer tipo. Ao associarmos um objeto a este nome, podemos invocá-lo quando precisamos.\n",
    "\n",
    "Para associarmos um valor a uma variável, utilizamos o operador `=`."
   ]
  },
  {
   "cell_type": "code",
   "execution_count": 1,
   "metadata": {},
   "outputs": [],
   "source": [
    "# associando a frase \"Beco do Exploit\" à variável b.\n",
    "b = \"Beco do Exploit\""
   ]
  },
  {
   "cell_type": "markdown",
   "metadata": {},
   "source": [
    "Após associar um valor à variável, podemos invocá-lo, no caso vamos imprimí-lo na tela."
   ]
  },
  {
   "cell_type": "code",
   "execution_count": 2,
   "metadata": {},
   "outputs": [
    {
     "name": "stdout",
     "output_type": "stream",
     "text": [
      "Beco do Exploit\n"
     ]
    }
   ],
   "source": [
    "print(b)"
   ]
  },
  {
   "cell_type": "markdown",
   "metadata": {},
   "source": [
    "Uma variável também pode ter seu valor alterado ao longo do mesmo código:"
   ]
  },
  {
   "cell_type": "code",
   "execution_count": 3,
   "metadata": {},
   "outputs": [
    {
     "name": "stdout",
     "output_type": "stream",
     "text": [
      "Valor inicial: 200\n",
      "Valor alterado: 250\n"
     ]
    }
   ],
   "source": [
    "# atribuindo valor inicial\n",
    "\n",
    "x = 200\n",
    "print(\"Valor inicial:\", x)\n",
    "\n",
    "# atribuindo um novo valor\n",
    "x = 250\n",
    "print(\"Valor alterado:\", x)"
   ]
  },
  {
   "cell_type": "markdown",
   "metadata": {},
   "source": [
    "## Diferentes tipos de variáveis\n",
    "\n",
    "Uma variável pode conter uma ampla gama de valores, a princípio, vamos ver as 3 principais: `integers`, `floats` e `strings`.\n",
    "\n",
    "### Integers\n",
    "\n",
    "Integers, ou inteiros são números sem valores decimais, para associá-lo a uma variável, basta criá-la com um número:"
   ]
  },
  {
   "cell_type": "code",
   "execution_count": 4,
   "metadata": {},
   "outputs": [
    {
     "name": "stdout",
     "output_type": "stream",
     "text": [
      "400\n"
     ]
    }
   ],
   "source": [
    "x = 400\n",
    "print(x)"
   ]
  },
  {
   "cell_type": "markdown",
   "metadata": {},
   "source": [
    "### Floats\n",
    "\n",
    "Floats são números com valores decimais, aqui vale uma observação importante: o Python não utiliza vírgula para separar a casa decimal, mas sim o `.`\n",
    "\n",
    "Para criar uma variável float, basta associá-la a um número que possua casa decimal:"
   ]
  },
  {
   "cell_type": "code",
   "execution_count": 7,
   "metadata": {},
   "outputs": [
    {
     "name": "stdout",
     "output_type": "stream",
     "text": [
      "70.5\n"
     ]
    }
   ],
   "source": [
    "x = 70.5\n",
    "print(x)"
   ]
  },
  {
   "cell_type": "markdown",
   "metadata": {},
   "source": [
    "### Strings\n",
    "\n",
    "Strings são sequencias de caracteres que podem conter caracteres como letras, números, símbolos...\n",
    "\n",
    "Em Python, podemos definir strings inserindo seu conteúdom dentro de aspas, sejam elas simples ou duplas:"
   ]
  },
  {
   "cell_type": "code",
   "execution_count": 8,
   "metadata": {},
   "outputs": [
    {
     "name": "stdout",
     "output_type": "stream",
     "text": [
      "Isto é uma string\n",
      "Isto também é uma string\n"
     ]
    }
   ],
   "source": [
    "s = \"Isto é uma string\"\n",
    "print(s)\n",
    "\n",
    "s = 'Isto também é uma string'\n",
    "print(s)"
   ]
  },
  {
   "cell_type": "code",
   "execution_count": 14,
   "metadata": {},
   "outputs": [
    {
     "name": "stdout",
     "output_type": "stream",
     "text": [
      "A vantagem do Python é sua \"facilidade\"! 1234\n"
     ]
    }
   ],
   "source": [
    "s = 'A vantagem do Python é sua \"facilidade\"! 1234'\n",
    "print(s)"
   ]
  },
  {
   "cell_type": "markdown",
   "metadata": {},
   "source": [
    "## Como verificar o tipo de uma variável?\n",
    "\n",
    "Toda vez que criamos uma variável, definimos exatamente o que queremos, mas muitas das vezes criamos uma variável que irá receber o resultado de uma função ou requisição, e nem sempre teremos o controle de que tipo de dado estamos lidando.\n",
    "\n",
    "É comum recebermos números definidos como string, o que pode demonstrar mal comportamento do nosso código, não permitindo operações matemáticas.\n",
    "\n",
    "Para verificarmos o tipo da variável, podemos utilizar a função `type()`."
   ]
  },
  {
   "cell_type": "code",
   "execution_count": 15,
   "metadata": {},
   "outputs": [
    {
     "data": {
      "text/plain": [
       "int"
      ]
     },
     "execution_count": 15,
     "metadata": {},
     "output_type": "execute_result"
    }
   ],
   "source": [
    "x = 5\n",
    "type(x)"
   ]
  },
  {
   "cell_type": "code",
   "execution_count": 16,
   "metadata": {},
   "outputs": [
    {
     "data": {
      "text/plain": [
       "float"
      ]
     },
     "execution_count": 16,
     "metadata": {},
     "output_type": "execute_result"
    }
   ],
   "source": [
    "y = 5.0\n",
    "type(y)"
   ]
  },
  {
   "cell_type": "code",
   "execution_count": 17,
   "metadata": {},
   "outputs": [
    {
     "data": {
      "text/plain": [
       "str"
      ]
     },
     "execution_count": 17,
     "metadata": {},
     "output_type": "execute_result"
    }
   ],
   "source": [
    "z = \"5\"\n",
    "type(z)"
   ]
  },
  {
   "cell_type": "code",
   "execution_count": 19,
   "metadata": {},
   "outputs": [
    {
     "name": "stdout",
     "output_type": "stream",
     "text": [
      "7\n"
     ]
    }
   ],
   "source": [
    "z = 5\n",
    "a = z + 2\n",
    "print(a)"
   ]
  },
  {
   "cell_type": "markdown",
   "metadata": {},
   "source": [
    "## Convertendo variáveis\n",
    "\n",
    "Também é possível converter o tipo de uma variável, dentro dos 3 tipos que estamos trabalhando seguindo as seguintes regras:\n",
    "\n",
    "* Integer e float podem se converter entre sí e se converter para string\n",
    "* String pode se converter para integer ou float somente se for um número\n",
    "* Letras e símbolos se limitam somente a strings\n",
    "\n",
    "Para efetuar estas conversöes, utilizamos as funções `int()`, `float()` e `str()`."
   ]
  },
  {
   "cell_type": "code",
   "execution_count": 26,
   "metadata": {},
   "outputs": [
    {
     "name": "stdout",
     "output_type": "stream",
     "text": [
      "<class 'int'>\n",
      "5.0\n"
     ]
    },
    {
     "data": {
      "text/plain": [
       "float"
      ]
     },
     "execution_count": 26,
     "metadata": {},
     "output_type": "execute_result"
    }
   ],
   "source": [
    "# convertendo integer em float\n",
    "x = 5\n",
    "print(type(x))\n",
    "x = float(x)\n",
    "print(x)\n",
    "type(x)"
   ]
  },
  {
   "cell_type": "code",
   "execution_count": 25,
   "metadata": {},
   "outputs": [
    {
     "name": "stdout",
     "output_type": "stream",
     "text": [
      "<class 'str'>\n"
     ]
    },
    {
     "data": {
      "text/plain": [
       "int"
      ]
     },
     "execution_count": 25,
     "metadata": {},
     "output_type": "execute_result"
    }
   ],
   "source": [
    "print(type(\"beco\"))\n",
    "type(5)"
   ]
  },
  {
   "cell_type": "code",
   "execution_count": 22,
   "metadata": {},
   "outputs": [
    {
     "name": "stdout",
     "output_type": "stream",
     "text": [
      "5\n"
     ]
    },
    {
     "data": {
      "text/plain": [
       "str"
      ]
     },
     "execution_count": 22,
     "metadata": {},
     "output_type": "execute_result"
    }
   ],
   "source": [
    "# convertendo integer em string\n",
    "x = 5\n",
    "x = str(x)\n",
    "print(x)\n",
    "type(x)"
   ]
  },
  {
   "cell_type": "code",
   "execution_count": 29,
   "metadata": {},
   "outputs": [
    {
     "name": "stdout",
     "output_type": "stream",
     "text": [
      "6\n"
     ]
    },
    {
     "data": {
      "text/plain": [
       "int"
      ]
     },
     "execution_count": 29,
     "metadata": {},
     "output_type": "execute_result"
    }
   ],
   "source": [
    "# convertendo float em integer (valor é truncado e não arredondado)\n",
    "x = 6.6\n",
    "x = int(x)\n",
    "print(x)\n",
    "type(x)"
   ]
  },
  {
   "cell_type": "code",
   "execution_count": 30,
   "metadata": {},
   "outputs": [
    {
     "name": "stdout",
     "output_type": "stream",
     "text": [
      "6.6\n"
     ]
    },
    {
     "data": {
      "text/plain": [
       "str"
      ]
     },
     "execution_count": 30,
     "metadata": {},
     "output_type": "execute_result"
    }
   ],
   "source": [
    "# convertendo float em string\n",
    "x = 6.6\n",
    "x = str(x)\n",
    "print(x)\n",
    "type(x)"
   ]
  },
  {
   "cell_type": "code",
   "execution_count": 34,
   "metadata": {},
   "outputs": [
    {
     "name": "stdout",
     "output_type": "stream",
     "text": [
      "<class 'str'>\n"
     ]
    },
    {
     "data": {
      "text/plain": [
       "int"
      ]
     },
     "execution_count": 34,
     "metadata": {},
     "output_type": "execute_result"
    }
   ],
   "source": [
    "# convertendo uma string em integer/float\n",
    "\n",
    "x = \"6\"\n",
    "print(type(x))\n",
    "x = int(x)\n",
    "type(x)"
   ]
  },
  {
   "cell_type": "markdown",
   "metadata": {},
   "source": [
    "## Variáveis derivadas de outras variáveis\n",
    "\n",
    "Outra grande ferramenta que o Python possui, é a capacidade de criar uma variável que seja derivada de uma outra variável, seja criando uma cópia ou utilizando operadores."
   ]
  },
  {
   "cell_type": "code",
   "execution_count": 36,
   "metadata": {},
   "outputs": [
    {
     "name": "stdout",
     "output_type": "stream",
     "text": [
      "O valor de x é: 15\n",
      "O valor de y é: 150\n",
      "O valor de z é: 2250\n"
     ]
    }
   ],
   "source": [
    "x = 15\n",
    "y = x * 10\n",
    "z = y * x\n",
    "print(\"O valor de x é:\", x)\n",
    "print(\"O valor de y é:\", y)\n",
    "print(\"O valor de z é:\", z)"
   ]
  },
  {
   "cell_type": "markdown",
   "metadata": {},
   "source": [
    "### Comentários no Python"
   ]
  },
  {
   "cell_type": "code",
   "execution_count": 38,
   "metadata": {},
   "outputs": [
    {
     "data": {
      "text/plain": [
       "'\\nIsto é um comentário \\nem bloco\\n'"
      ]
     },
     "execution_count": 38,
     "metadata": {},
     "output_type": "execute_result"
    }
   ],
   "source": [
    "# Exemplo de comentário em uma linha\n",
    "\n",
    "'''\n",
    "Isto é um comentário \n",
    "em bloco\n",
    "'''\n"
   ]
  },
  {
   "cell_type": "code",
   "execution_count": 41,
   "metadata": {},
   "outputs": [
    {
     "name": "stdout",
     "output_type": "stream",
     "text": [
      "\n",
      "    select\n",
      "        *\n",
      "    from\n",
      "        tabela\n",
      "    where\n",
      "        campo = x\n",
      "        and nome = \"jose\"\n",
      "\n"
     ]
    }
   ],
   "source": [
    "# exemplo de query em SQL\n",
    "\n",
    "query = 'select * from tabela where campo = x and nome = \\'jose\\''\n",
    "query = \"\"\"\n",
    "    select\n",
    "        *\n",
    "    from\n",
    "        tabela\n",
    "    where\n",
    "        campo = x\n",
    "        and nome = \"jose\"\n",
    "\"\"\"\n",
    "\n",
    "print(query)"
   ]
  },
  {
   "cell_type": "code",
   "execution_count": 45,
   "metadata": {},
   "outputs": [
    {
     "name": "stdout",
     "output_type": "stream",
     "text": [
      "\n",
      "    select\n",
      "        *\n",
      "    from\n",
      "        tabela\n",
      "    where\n",
      "        campo = x\n",
      "        and nome = 'jose'\n"
     ]
    }
   ],
   "source": [
    "# exemplo 1 de query em SQL com variéveis\n",
    "\n",
    "nome = \"jose\"\n",
    "query = \"\"\"\n",
    "    select\n",
    "        *\n",
    "    from\n",
    "        tabela\n",
    "    where\n",
    "        campo = x\n",
    "        and nome = '\"\"\" + nome + \"'\"\n",
    "    \n",
    "print(query)"
   ]
  },
  {
   "cell_type": "code",
   "execution_count": 46,
   "metadata": {},
   "outputs": [
    {
     "name": "stdout",
     "output_type": "stream",
     "text": [
      "\n",
      "    select\n",
      "        *\n",
      "    from\n",
      "        tabela\n",
      "    where\n",
      "        campo = x\n",
      "        and nome = 'jose'\n",
      "\n"
     ]
    }
   ],
   "source": [
    "# exemplo 2 de query em SQL com variéveis\n",
    "\n",
    "nome = \"jose\"\n",
    "query = f\"\"\"\n",
    "    select\n",
    "        *\n",
    "    from\n",
    "        tabela\n",
    "    where\n",
    "        campo = x\n",
    "        and nome = '{nome}'\n",
    "\"\"\"\n",
    "    \n",
    "print(query)"
   ]
  },
  {
   "cell_type": "code",
   "execution_count": 47,
   "metadata": {},
   "outputs": [
    {
     "name": "stdout",
     "output_type": "stream",
     "text": [
      "\n",
      "    select\n",
      "        *\n",
      "    from\n",
      "        tabela\n",
      "    where\n",
      "        campo = x\n",
      "        and nome = 'jose'\n",
      "\n"
     ]
    }
   ],
   "source": [
    "# exemplo 3 de query em SQL com variéveis\n",
    "\n",
    "nome = \"jose\"\n",
    "query = \"\"\"\n",
    "    select\n",
    "        *\n",
    "    from\n",
    "        tabela\n",
    "    where\n",
    "        campo = x\n",
    "        and nome = '{}'\n",
    "\"\"\".format(nome)\n",
    "    \n",
    "print(query)"
   ]
  },
  {
   "cell_type": "code",
   "execution_count": 49,
   "metadata": {},
   "outputs": [
    {
     "name": "stdout",
     "output_type": "stream",
     "text": [
      "\n",
      "    select\n",
      "        *\n",
      "    from\n",
      "        tabela\n",
      "    where\n",
      "        campo = x\n",
      "        and nome = 'jose'\n",
      "        and idade = 33\n",
      "\n"
     ]
    }
   ],
   "source": [
    "# exemplo 4 de query em SQL com variéveis\n",
    "\n",
    "nome = \"jose\"\n",
    "idade = 33\n",
    "query = \"\"\"\n",
    "    select\n",
    "        *\n",
    "    from\n",
    "        tabela\n",
    "    where\n",
    "        campo = x\n",
    "        and nome = '%s'\n",
    "        and idade = %s\n",
    "\"\"\"%(nome, idade)\n",
    "    \n",
    "print(query)"
   ]
  },
  {
   "cell_type": "code",
   "execution_count": 51,
   "metadata": {},
   "outputs": [
    {
     "name": "stdout",
     "output_type": "stream",
     "text": [
      "beco  do exploit\n",
      "beco do exploit\n"
     ]
    }
   ],
   "source": [
    "# concatenação de strings com \"+\"\n",
    "\n",
    "a = \"beco \"\n",
    "b = \"do exploit\"\n",
    "\n",
    "print(a, b)\n",
    "print(a + b)"
   ]
  },
  {
   "cell_type": "code",
   "execution_count": 53,
   "metadata": {},
   "outputs": [
    {
     "name": "stdout",
     "output_type": "stream",
     "text": [
      "Beco do Exploit Beco do Exploit Beco do Exploit Beco do Exploit Beco do Exploit Beco do Exploit Beco do Exploit Beco do Exploit Beco do Exploit Beco do Exploit \n"
     ]
    }
   ],
   "source": [
    "# multiplicação de strings\n",
    "\n",
    "a = \"Beco do Exploit \"\n",
    "b = a * 10\n",
    "print(b)"
   ]
  }
 ],
 "metadata": {
  "interpreter": {
   "hash": "916dbcbb3f70747c44a77c7bcd40155683ae19c65e1c03b4aa3499c5328201f1"
  },
  "kernelspec": {
   "display_name": "Python 3.9.2 64-bit",
   "language": "python",
   "name": "python3"
  },
  "language_info": {
   "codemirror_mode": {
    "name": "ipython",
    "version": 3
   },
   "file_extension": ".py",
   "mimetype": "text/x-python",
   "name": "python",
   "nbconvert_exporter": "python",
   "pygments_lexer": "ipython3",
   "version": "3.9.2"
  },
  "orig_nbformat": 4
 },
 "nbformat": 4,
 "nbformat_minor": 2
}
