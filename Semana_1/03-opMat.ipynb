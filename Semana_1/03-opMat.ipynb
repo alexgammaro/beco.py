{
 "cells": [
  {
   "cell_type": "markdown",
   "metadata": {},
   "source": [
    "# Operadores Mateméticos\n",
    "\n",
    "<center><img width=\"40%\"  src=\"https://raw.githubusercontent.com/leonardo-multiverso/img/main/mat.jpg\"></center>\n",
    "\n",
    "Neste notebook vamos conhecer os operadores mateméticos no Python e como utilizá-los nas expressões.\n",
    "\n",
    "Este conteúdo é importante, pois em determinados momentos, como **`Buffer Overflow`** precisaremos utilizar vários cálculos matemáticos com Python.\n",
    "\n",
    "\n",
    "* `+` Adição\n",
    "* `-` Subtração\n",
    "* `*` Multiplicação\n",
    "* `/` Divisão\n",
    "* `**` Exponenciação\n",
    "* `//` Divisão com resultado inteiro\n",
    "\n",
    "Alguns exemplos de uso:"
   ]
  },
  {
   "cell_type": "code",
   "execution_count": 1,
   "metadata": {},
   "outputs": [
    {
     "data": {
      "text/plain": [
       "117"
      ]
     },
     "execution_count": 1,
     "metadata": {},
     "output_type": "execute_result"
    }
   ],
   "source": [
    "# adição\n",
    "23 + 5 + 89"
   ]
  },
  {
   "cell_type": "code",
   "execution_count": 2,
   "metadata": {},
   "outputs": [
    {
     "data": {
      "text/plain": [
       "42"
      ]
     },
     "execution_count": 2,
     "metadata": {},
     "output_type": "execute_result"
    }
   ],
   "source": [
    "# subtração\n",
    "80 - 38"
   ]
  },
  {
   "cell_type": "code",
   "execution_count": 3,
   "metadata": {},
   "outputs": [
    {
     "data": {
      "text/plain": [
       "1360"
      ]
     },
     "execution_count": 3,
     "metadata": {},
     "output_type": "execute_result"
    }
   ],
   "source": [
    "# multiplicação\n",
    "34 * 40"
   ]
  },
  {
   "cell_type": "code",
   "execution_count": 6,
   "metadata": {},
   "outputs": [
    {
     "data": {
      "text/plain": [
       "3.6666666666666665"
      ]
     },
     "execution_count": 6,
     "metadata": {},
     "output_type": "execute_result"
    }
   ],
   "source": [
    "# divisão\n",
    "11 / 3"
   ]
  },
  {
   "cell_type": "code",
   "execution_count": 7,
   "metadata": {},
   "outputs": [
    {
     "data": {
      "text/plain": [
       "3"
      ]
     },
     "execution_count": 7,
     "metadata": {},
     "output_type": "execute_result"
    }
   ],
   "source": [
    "# Divisão com resultado inteiro\n",
    "11 // 3"
   ]
  },
  {
   "cell_type": "code",
   "execution_count": 8,
   "metadata": {},
   "outputs": [
    {
     "data": {
      "text/plain": [
       "16"
      ]
     },
     "execution_count": 8,
     "metadata": {},
     "output_type": "execute_result"
    }
   ],
   "source": [
    "# exponenciação\n",
    "4 ** 2"
   ]
  },
  {
   "cell_type": "markdown",
   "metadata": {},
   "source": [
    "## Ordem de procedência\n",
    "\n",
    "Vale a pena relembrar a ordem de procedência utilizada em cálculos matemáticos:\n",
    "\n",
    "1. Parênteses\n",
    "2. Expoentes\n",
    "3. Multiplicações e Divisões (esquerda para a direita)\n",
    "4. Somas e subtrações (esquerda para a direita)\n",
    "\n"
   ]
  },
  {
   "cell_type": "markdown",
   "metadata": {},
   "source": [
    "## Leitura\n",
    "\n",
    "[Operators and Expressions](https://realpython.com/python-operators-expressions/)"
   ]
  }
 ],
 "metadata": {
  "interpreter": {
   "hash": "31f2aee4e71d21fbe5cf8b01ff0e069b9275f58929596ceb00d14d90e3e16cd6"
  },
  "kernelspec": {
   "display_name": "Python 3.9.2 64-bit",
   "language": "python",
   "name": "python3"
  },
  "language_info": {
   "codemirror_mode": {
    "name": "ipython",
    "version": 3
   },
   "file_extension": ".py",
   "mimetype": "text/x-python",
   "name": "python",
   "nbconvert_exporter": "python",
   "pygments_lexer": "ipython3",
   "version": "3.9.2"
  },
  "orig_nbformat": 4
 },
 "nbformat": 4,
 "nbformat_minor": 2
}
