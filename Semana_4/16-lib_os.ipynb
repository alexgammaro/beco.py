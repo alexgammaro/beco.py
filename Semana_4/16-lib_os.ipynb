{
 "cells": [
  {
   "cell_type": "markdown",
   "metadata": {},
   "source": [
    "# BIBLIOTECA OS\n",
    "\n",
    "<center><img width=\"40%\"  src=\"https://raw.githubusercontent.com/leonardo-multiverso/img/main/skullos.png\"></center>\n",
    "\n",
    "A biblioteca `os` nos permite uma gama de funções que podem ser executadas para obter, inserir e alterar informações em um sistema operacional.\n",
    "\n",
    "Esta biblioteca vai muito além de execução de comandos."
   ]
  },
  {
   "cell_type": "code",
   "execution_count": null,
   "metadata": {},
   "outputs": [],
   "source": [
    "# importando a lib\n",
    "import os\n",
    "\n",
    "# obtendo o nome do usuário\n",
    "\n",
    "user = os.getlogin()\n",
    "print(user)\n"
   ]
  },
  {
   "cell_type": "code",
   "execution_count": null,
   "metadata": {},
   "outputs": [],
   "source": [
    "# obtendo o diretorio atual\n",
    "\n",
    "DIR = os.getcwd()\n",
    "print(DIR)"
   ]
  },
  {
   "cell_type": "code",
   "execution_count": null,
   "metadata": {},
   "outputs": [],
   "source": [
    "# alterando o diretório do script\n",
    "\n",
    "os.chdir('/var')\n",
    "DIR = os.getcwd()\n",
    "print(DIR)"
   ]
  },
  {
   "cell_type": "code",
   "execution_count": null,
   "metadata": {},
   "outputs": [],
   "source": [
    "# executando comandos do SO\n",
    "\n",
    "os.system('ls -la')\n"
   ]
  },
  {
   "cell_type": "code",
   "execution_count": null,
   "metadata": {},
   "outputs": [],
   "source": [
    "# obtendo o diretório home do usuário\n",
    "\n",
    "os.path.expanduser(\"~\")"
   ]
  },
  {
   "cell_type": "code",
   "execution_count": null,
   "metadata": {},
   "outputs": [],
   "source": [
    "# configurando diretório de armazenamento de informações\n",
    "\n",
    "bash_hist = os.path.expanduser('~') + r\"/.bash_history\"\n",
    "\n",
    "print(bash_hist)"
   ]
  },
  {
   "cell_type": "code",
   "execution_count": null,
   "metadata": {},
   "outputs": [],
   "source": [
    "# lendo informações\n",
    "\n",
    "bash_ist = os.path.expanduser('~') + r\"/.bash_history\"\n",
    "\n",
    "with open(bash_ist, 'r') as f:\n",
    "    for i in f:\n",
    "        print(i)\n",
    "\n",
    "print(bash_ist)"
   ]
  }
 ],
 "metadata": {
  "interpreter": {
   "hash": "916dbcbb3f70747c44a77c7bcd40155683ae19c65e1c03b4aa3499c5328201f1"
  },
  "kernelspec": {
   "display_name": "Python 3.9.2 64-bit",
   "language": "python",
   "name": "python3"
  },
  "language_info": {
   "codemirror_mode": {
    "name": "ipython",
    "version": 3
   },
   "file_extension": ".py",
   "mimetype": "text/x-python",
   "name": "python",
   "nbconvert_exporter": "python",
   "pygments_lexer": "ipython3",
   "version": "3.10.1"
  },
  "orig_nbformat": 4
 },
 "nbformat": 4,
 "nbformat_minor": 2
}
