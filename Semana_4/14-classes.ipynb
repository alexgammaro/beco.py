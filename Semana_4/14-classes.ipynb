{
 "cells": [
  {
   "cell_type": "markdown",
   "metadata": {},
   "source": [
    "# CLASSES\n",
    "\n",
    "<center><img width=\"60%\"  src=\"https://raw.githubusercontent.com/leonardo-multiverso/img/main/class.png\"></center>\n",
    "\n",
    "As classes são a principal definição de uma linguagem orientada a objetos, são a princípio complexas para se entender, porém essenciais para programação.\n",
    "\n",
    "Ao longo deste notebook, vamos explorar as bases das classes em Python.\n",
    "\n",
    "Uma classe associa dados (atributos) e operações (métodos) numa única estrutura. Em outras palavras, um `objeto` é uma instância de uma classe, ou uma representação dela. \n",
    "\n",
    "Tomando o abstrato como exemplo, `vermelho` é uma instância de uma classe chamada `Cor`, mas a Cor é a classe que o representa de forma genérica. Portanto, é possível criar outro objeto chamado `amarelo` e esse objeto também será uma instância da classe Cor.\n",
    "\n",
    "De uma forma mais simplificada, a classe é um \"construtor\" de objetos.\n",
    "\n",
    "Para criar uma classe, utilizamos a palavra reservada `class` seguida do nome da classe e de dois pontos `:`.\n",
    "\n",
    "Em seguida, vamos ver na prática, como uma classe funciona em sua forma mais simples e primitiva."
   ]
  },
  {
   "cell_type": "code",
   "execution_count": null,
   "metadata": {},
   "outputs": [],
   "source": [
    "# criando uma classe\n",
    "class Classe:\n",
    "    x = \"Beco do Exploit\"\n",
    "\n",
    "# construindo um objeto\n",
    "objeto = Classe()\n",
    "\n",
    "# imprimindo um dado da classe a partir do objeto\n",
    "print(objeto.x)"
   ]
  },
  {
   "cell_type": "markdown",
   "metadata": {},
   "source": [
    "O exemplo mostrado acima, foi só a forma mais simples de uma classe e na vida real não teria muita utilidade.\n",
    "\n",
    "Para começarmos a dar vida as nossas classes, precisamos entender alguns conceitos sobre ela.\n",
    "\n",
    "Uma classe possui algumas funções *built-in* que fazem parte de seu funcionamento.\n",
    "\n",
    "## Função __init__()\n",
    "\n",
    "Para podermos entender o real significado de uma classe, nós precisamos entender primeiramente a função `__init__()`.\n",
    "\n",
    "Todas as classes possuem a função `__init__()`, esta função é executada automaticamente quando a classe é invocada. Ela serve para atribuir valores a objetos, e também para realizar outras operações.\n",
    "\n",
    "A função __init__() é definida com a palavra chave `def` assim como as funções."
   ]
  },
  {
   "cell_type": "code",
   "execution_count": null,
   "metadata": {},
   "outputs": [],
   "source": [
    "# criando uma classe\n",
    "class Curso:\n",
    "    def __init__(self, nome, curso):\n",
    "        self.nome = nome\n",
    "        self.curso = curso\n",
    "\n",
    "# construindo um objeto\n",
    "objeto = Curso(\"H41stur\", \"Python\")\n",
    "\n",
    "# imprimindo dados da classe a partir do objeto\n",
    "print(objeto.nome)\n",
    "print(objeto.curso)"
   ]
  },
  {
   "cell_type": "markdown",
   "metadata": {},
   "source": [
    "## Objetos e Métodos\n",
    "\n",
    "Objetos podem conter métodos. Os métodos em objetos são funções que pertencem ao objeto.\n",
    "\n",
    "Em outras palavras, se existe uma função que não seja *built-in* dentro de uma classe, esta função é chamada de `método`."
   ]
  },
  {
   "cell_type": "code",
   "execution_count": null,
   "metadata": {},
   "outputs": [],
   "source": [
    "# criando uma classe\n",
    "class Curso:\n",
    "    def __init__(self, nome, curso):\n",
    "        self.nome = nome\n",
    "        self.curso = curso\n",
    "\n",
    "    def funcao(self):\n",
    "        print(f\"Estou fazendo o curso de {self.curso} com o professor {self.nome}.\")\n",
    "\n",
    "# construindo um objeto\n",
    "objeto = Curso(\"H41stur\", \"Python\")\n",
    "\n",
    "# invocando o objeto\n",
    "objeto.funcao()"
   ]
  },
  {
   "cell_type": "markdown",
   "metadata": {},
   "source": [
    "## O Parâmetro self\n",
    "\n",
    "O parâmetro `self` é uma referência para a instância de uma classe, e é usada para atribuir e acessar variáveis que pertencem a esta classe.\n",
    "\n",
    "O nome `self` é uma convenção, não é obrigatório que este parâmetro se chame `self`, porém ele precisa ser o primeiro parâmetro em cada função dentro de uma classe."
   ]
  },
  {
   "cell_type": "code",
   "execution_count": null,
   "metadata": {},
   "outputs": [],
   "source": [
    "# criando uma classe e atribuindo outro valor para self\n",
    "class Curso:\n",
    "    def __init__(batata, nome, curso):\n",
    "        batata.nome = nome\n",
    "        batata.curso = curso\n",
    "\n",
    "    def funcao(batata):\n",
    "        print(f\"Estou fazendo o curso de {batata.curso} com o professor {batata.nome}.\")\n",
    "\n",
    "# construindo um objeto\n",
    "objeto = Curso(\"H41stur\", \"Python\")\n",
    "\n",
    "# invocando o objeto\n",
    "objeto.funcao()"
   ]
  },
  {
   "cell_type": "markdown",
   "metadata": {},
   "source": [
    "Uma classe pode conter quantos métodos forem necessários, e cada um destes métodos podem ser invocados separadamente.\n",
    "\n",
    "Para melhor entendermos, vamos construir uma classe com algo que já conhecemos, como uma calculadora."
   ]
  },
  {
   "cell_type": "code",
   "execution_count": null,
   "metadata": {},
   "outputs": [],
   "source": [
    "# criando uma classe\n",
    "class Calculator:\n",
    "    def __init__(self, valor_a, valor_b):\n",
    "        self.valor_a = valor_a\n",
    "        self.valor_b = valor_b\n",
    "\n",
    "    def soma(self):\n",
    "        return self.valor_a + self.valor_b\n",
    "\n",
    "    def sub(self):\n",
    "        return self.valor_a - self.valor_b\n",
    "\n",
    "    def div(self):\n",
    "        return self.valor_a / self.valor_b\n",
    "\n",
    "    def mult(self):\n",
    "        return self.valor_a * self.valor_b\n",
    "\n",
    "\n",
    "# criando o objeto\n",
    "calc = Calculator(10, 5)\n",
    "\n",
    "# invocando o metodo soma\n",
    "print('Soma:', calc.soma())\n",
    "\n",
    "# incocando o metodo subtração\n",
    "print('Subtração:', calc.sub())\n",
    "\n",
    "# invocando o metodo divisão\n",
    "print('Divisão:', calc.div())\n",
    "\n",
    "# invocando o método multiplicação\n",
    "print('Multiplicação:', calc.mult())"
   ]
  },
  {
   "cell_type": "markdown",
   "metadata": {},
   "source": [
    "A partir do momento que temos um objeto classe, também podemos redefinir os operadores de cada método."
   ]
  },
  {
   "cell_type": "code",
   "execution_count": null,
   "metadata": {},
   "outputs": [],
   "source": [
    "# criando uma classe\n",
    "class Calculator:\n",
    "    def __init__(self, valor_a, valor_b):\n",
    "        self.valor_a = valor_a\n",
    "        self.valor_b = valor_b\n",
    "\n",
    "    def soma(self):\n",
    "        return self.valor_a + self.valor_b\n",
    "\n",
    "    def sub(self):\n",
    "        return self.valor_a - self.valor_b\n",
    "\n",
    "    def div(self):\n",
    "        return self.valor_a / self.valor_b\n",
    "\n",
    "    def mult(self):\n",
    "        return self.valor_a * self.valor_b\n",
    "\n",
    "\n",
    "# criando o objeto\n",
    "calc = Calculator(10, 5)\n",
    "\n",
    "# invocando soma com valores passados na instancia da classe\n",
    "print('Soma inicial:', calc.soma())\n",
    "\n",
    "# redefinindo os operadores de um método\n",
    "calc.valor_a = 20\n",
    "calc.valor_b = 30\n",
    "\n",
    "# invocando o metodo soma com valores redefinidos\n",
    "print('Soma final:', calc.soma())"
   ]
  },
  {
   "cell_type": "markdown",
   "metadata": {},
   "source": [
    "Também é possível criar uma classe sem valores pré definidos, fazendo com esta fique mais fácil de manejar quando chamamos um método.\n",
    "\n",
    "Como a função `__init__()` define as variáveis de uma classe, vamos criá-la sem esta função."
   ]
  },
  {
   "cell_type": "code",
   "execution_count": null,
   "metadata": {},
   "outputs": [],
   "source": [
    "# criando uma classe sem definir variáveis com __init__()\n",
    "class Calculator:\n",
    "    def soma(self, valor_a, valor_b):\n",
    "        return valor_a + valor_b\n",
    "\n",
    "    def sub(self, valor_a, valor_b):\n",
    "        return valor_a - valor_b\n",
    "\n",
    "    def div(self, valor_a, valor_b):\n",
    "        return valor_a / valor_b\n",
    "\n",
    "    def mult(self, valor_a, valor_b):\n",
    "        return valor_a * valor_b\n",
    "\n",
    "\n",
    "# criando o objeto\n",
    "calc = Calculator()\n",
    "\n",
    "# invocando o metodo soma\n",
    "print('Soma:', calc.soma(25, 40))"
   ]
  },
  {
   "cell_type": "markdown",
   "metadata": {},
   "source": [
    "## Links para leitura\n",
    "\n",
    "* [Classes Documentation](https://docs.python.org/2/tutorial/classes.html#class-objects)\n",
    "* [Python Classes and Objects](https://www.geeksforgeeks.org/python-classes-and-objects/)\n",
    "* [Object-Oriented Programming (OOP) in Python 3](https://realpython.com/python3-object-oriented-programming/)"
   ]
  }
 ],
 "metadata": {
  "interpreter": {
   "hash": "916dbcbb3f70747c44a77c7bcd40155683ae19c65e1c03b4aa3499c5328201f1"
  },
  "kernelspec": {
   "display_name": "Python 3.9.2 64-bit",
   "language": "python",
   "name": "python3"
  },
  "language_info": {
   "codemirror_mode": {
    "name": "ipython",
    "version": 3
   },
   "file_extension": ".py",
   "mimetype": "text/x-python",
   "name": "python",
   "nbconvert_exporter": "python",
   "pygments_lexer": "ipython3",
   "version": "3.10.1"
  },
  "orig_nbformat": 4
 },
 "nbformat": 4,
 "nbformat_minor": 2
}
