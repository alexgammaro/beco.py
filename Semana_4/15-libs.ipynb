{
 "cells": [
  {
   "cell_type": "markdown",
   "metadata": {},
   "source": [
    "# BIBLIOTECAS\n",
    "\n",
    "<center><img width=\"40%\"  src=\"https://raw.githubusercontent.com/leonardo-multiverso/img/main/lib.jpg\"></center>\n",
    "\n",
    "As bibliotecas, ou `libs` em Python, são coleções de `classes` e `métodos` nomeados e segmantados para finalidades diferentes.\n",
    "\n",
    "Por exemplo, a biblioteca `time` contém várias `classes` e `métodos` para manipulação de operações que envolvem tempo, enquanto a biblioteca `os` contém `classes` e `métodos` utilizados na manipulação do `sistema operacional`.\n",
    "\n",
    "As bibliotecas podem ser `importadas` dentro de um script para que seus atributos possam ser utilizados, é importante que para que uma biblioteca possa ser utilizada, ela deve ser importada **antes** de ser invocada. Normalmente importamos todas as bibliotecas logo no iniício de um script, salvo algumas exceções.\n",
    "\n",
    "O modo mais simples de se importar uma função é com o comando `import <lib>` e para que uma função da biblioteca seja invocada, chamamos com `<lib>.<função>`.\n",
    "\n",
    "Vamos fazer uma simples importação:"
   ]
  },
  {
   "cell_type": "code",
   "execution_count": null,
   "metadata": {},
   "outputs": [],
   "source": [
    "# importando a lib\n",
    "import time\n",
    "\n",
    "# utilizando a função sleep() da lib time\n",
    "for i in range(10):\n",
    "    \n",
    "    print(i)\n",
    "    time.sleep(2) # esta função faz o script \"adormecer por determinados segundos\" por um tempo, nesse caso 2\n"
   ]
  },
  {
   "cell_type": "markdown",
   "metadata": {},
   "source": [
    "## Outras formas de importar bibliotecas\n",
    "\n",
    "Existem algumas formas diferentes de se importar uma biblioteca, o exemplo acima é o mais simples, onde importamos **`TODAS`** as classes de uma biblioteca e chamamos a função com o comando `<lib>.<função>`, porém existem várias formas.\n",
    "\n",
    "### Adicionando um alias à biblioteca\n",
    "\n",
    "Podemos definir um alias, ou um apelido para uma biblioteca, facilitando na hora de chamar suas funções, sua sintaxe fica:\n",
    "```\n",
    "import <lib> as <alias>\n",
    "```\n",
    "\n",
    "E na hora de chamar a função, utilizamos este alias.\n",
    "\n",
    "Vamos refazer o script acima com o alias:\n"
   ]
  },
  {
   "cell_type": "code",
   "execution_count": null,
   "metadata": {},
   "outputs": [],
   "source": [
    "# importando a lib com alias\n",
    "import time as t\n",
    "\n",
    "# utilizando a função sleep() da lib time\n",
    "for i in range(10):\n",
    "    print(i)\n",
    "    t.sleep(2) # utilizando o alias para invocar uma função"
   ]
  },
  {
   "cell_type": "markdown",
   "metadata": {},
   "source": [
    "### Importando somente uma, ou algumas funções de uma biblioteca\n",
    "\n",
    "Nos casos acima, nós importamos **`TODAS`** as funções da biblioteca, o que pode não ser a melhor prática, em caso de bibliotecas mais pesadas.\n",
    "\n",
    "Para estes casos, podemos importar somente a/as funções que utilizaremso com a sintaxe:\n",
    "```\n",
    "from <lib> import <função>\n",
    "```\n",
    "\n",
    "Quando utilizamos desta forma, não precisamos mais informar o nome da biblioteca ao chamar a função."
   ]
  },
  {
   "cell_type": "code",
   "execution_count": null,
   "metadata": {},
   "outputs": [],
   "source": [
    "# importando uma fumção da lib\n",
    "from time import sleep\n",
    "\n",
    "# utilizando a função sleep() da lib time\n",
    "for i in range(10):\n",
    "    print(i)\n",
    "    sleep(2) # chamando a função dirematente"
   ]
  },
  {
   "cell_type": "markdown",
   "metadata": {},
   "source": [
    "### Importando todas as funções de uma biblioteca de forma explícita\n",
    "\n",
    "Também é possível importar todas as funções de uma biblioteca de forma explícita, ou seja, quando fazemos desta forma, não é preciso informar o nome da biblioteca antes de invocar a função.\n",
    "\n",
    "Sua sintaxe fica desta forma:\n",
    "```\n",
    "from <lib> import *\n",
    "```\n",
    "\n",
    "Porém deve-se ter muito cuidado ao importar bibliotecas desta forma, pois se duas bibliotecas tiverem funções com o mesmo nome, o Python irá considerar somente a função da ultima biblioteca importada."
   ]
  },
  {
   "cell_type": "code",
   "execution_count": null,
   "metadata": {},
   "outputs": [],
   "source": [
    "# importando todas fumções da lib de forma explícita\n",
    "from time import *\n",
    "\n",
    "# utilizando a função sleep() da lib time\n",
    "for i in range(10):\n",
    "    print(i)\n",
    "    sleep(2) # chamando a função dirematente"
   ]
  },
  {
   "cell_type": "markdown",
   "metadata": {},
   "source": [
    "## Ordem de diretório de importação\n",
    "\n",
    "Quando importamos uma biblioteca, o Python segue uma ordem lógica para fazer a importação:\n",
    "\n",
    "### Bibliotecas externas\n",
    "\n",
    "1. Diretório onde o script está armazenado;\n",
    "2. Path da variável de ambiente `$PYTHONPATH`;\n",
    "3. Diretório onde as libs são armazenadas no SO.\n",
    "\n",
    "Quando executamos um script que importa uma biblioteca, o primeiro lugar que ele procura, é no próprio diretório onde o script está armazenado, caso não o encontra, o Python verifica se existe a variável de ambiente `$PYTHONPATH`, caso esta variável não exista, ele procura no diretório onde o SO armazena as libs, no linux fica em `/usr/lib/pythonX/site-packages/`, porém é algo que pode mudar para cada SO.\n",
    "\n",
    "### Bibliotecas built-in\n",
    "\n",
    "1. Diretório onde as libs são armazenadas no SO.\n",
    "\n",
    "Já as bibliotecas *built-in* são importadas diretamente do diretório de armazenamento do python."
   ]
  },
  {
   "cell_type": "markdown",
   "metadata": {},
   "source": [
    "# INSTALANDO BIBLIOTECAS\n",
    "\n",
    "Muitas vezes precisamos de bibliotecas que não estão instaladas por padrão no Python, para isso, podemos instalar bibliotecas externas.\n",
    "\n",
    "Para instalar bibliotecas externas, utilizamos o comando `pip` (instalado junto com o Python no `Windows` e instalado separadamente no `linux`).\n",
    "\n",
    "A sintaxe para instalarmos uma biblioteca é:\n",
    "\n",
    "```\n",
    "pip install <lib>\n",
    "```\n",
    "\n",
    "O `pip` por padrão busca as bibliotecas no repositório do python [https://pypi.org/](https://pypi.org/).\n",
    "\n",
    "A sintaxe para desinstalar uma biblioteca é:\n",
    "```\n",
    "pip uninstall <lib>\n",
    "```\n",
    "\n",
    "O `pip` também tem várias outras funções que exploraremos mais a frente."
   ]
  },
  {
   "cell_type": "markdown",
   "metadata": {},
   "source": [
    "# FUNÇÕES ÚTEIS\n",
    "\n",
    "É possível ler toda a documentação de cada biblioteca através da internet, porém, quando instalamos uma, o próprio Python armazena sua documentação que pode ser lida no terminal.\n",
    "\n",
    "Para verificarmos, precisamos importar a biblioteca em questão, e logo em seguida utilizar a função `help()` com o nome da biblioteca.\n",
    "\n",
    "```\n",
    "import socket\n",
    "\n",
    "help(socket)\n",
    "```\n",
    "\n",
    "Também podemos veirificar todas as `classes` da biblioteca com a função `dir()`:\n",
    "\n",
    "```\n",
    "import socket\n",
    "\n",
    "dir(socket)\n",
    "```\n",
    "\n",
    "Além de que podemos ver a documentação da classe específica:\n",
    "\n",
    "```\n",
    "import socket\n",
    "\n",
    "help(socket.create_server)\n",
    "```"
   ]
  }
 ],
 "metadata": {
  "interpreter": {
   "hash": "916dbcbb3f70747c44a77c7bcd40155683ae19c65e1c03b4aa3499c5328201f1"
  },
  "kernelspec": {
   "display_name": "Python 3.9.2 64-bit",
   "language": "python",
   "name": "python3"
  },
  "language_info": {
   "codemirror_mode": {
    "name": "ipython",
    "version": 3
   },
   "file_extension": ".py",
   "mimetype": "text/x-python",
   "name": "python",
   "nbconvert_exporter": "python",
   "pygments_lexer": "ipython3",
   "version": "3.10.1"
  },
  "orig_nbformat": 4
 },
 "nbformat": 4,
 "nbformat_minor": 2
}
