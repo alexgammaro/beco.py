{
 "cells": [
  {
   "cell_type": "markdown",
   "metadata": {},
   "source": [
    "# FUNÇÕES\n",
    "\n",
    "<center><img width=\"60%\"  src=\"https://raw.githubusercontent.com/leonardo-multiverso/img/main/function.png\"></center>\n",
    "\n",
    "Funções são um recurso extremamente útil em linguagens de programação. Quando precisamos que uma rotina seja executada repetidas vezes, podemos definir um bloco de código que terá um nome específico e pode ser invocado a qualquer momento durante um script.\n",
    "\n",
    "Uma função pode ou não receber um `argumento` e pode ou não retornar um valor. Parece complicado, mas na prática é muito simples.\n",
    "\n",
    "Para definir uma função, utilizamos a palavra reservada `def`, a sintaxe mais básica é como abaixo:\n",
    "\n",
    "```\n",
    "def nome_da_funcao(argumentos_da_funcao):\n",
    "    código da função\n",
    "```\n",
    "\n",
    "Para invocar uma função, a chamamos pelo nome seguido de parênteses: `funcao()`, se a função tiver argumentos, podemos passar os argumentos dentro dos parênteses, separados por vírgula: `funcao(arg1, arg2)`.\n",
    "\n",
    "É importe salientar, que a função precisa ser definida, antes de ser invocada."
   ]
  },
  {
   "cell_type": "code",
   "execution_count": null,
   "metadata": {},
   "outputs": [],
   "source": [
    "# definindo uma função sem argumentos\n",
    "def funcao():\n",
    "    print('Eu sou uma função!!!')\n",
    "\n",
    "# invocando a função\n",
    "funcao()"
   ]
  },
  {
   "cell_type": "markdown",
   "metadata": {},
   "source": [
    "A função também pode retornar um valor específico que pode ser usado ao longo do código utilizando a expressão `return`. Vamos tomar como exemplo nossa primeira função, porém ao invés de imprimir um valor, vamos retornar um valor para utilizá-lo de outras formas."
   ]
  },
  {
   "cell_type": "code",
   "execution_count": null,
   "metadata": {},
   "outputs": [],
   "source": [
    "# definindo uma função sem argumentos\n",
    "def funcao():\n",
    "    return 'Eu sou uma função!!!'\n",
    "\n",
    "# imprimindo o retorno da função\n",
    "print(funcao())"
   ]
  },
  {
   "cell_type": "code",
   "execution_count": null,
   "metadata": {},
   "outputs": [],
   "source": [
    "# salvando o retorno da função em uma variável\n",
    "var = funcao()\n",
    "\n",
    "# imprimindo a variável\n",
    "print(var)"
   ]
  },
  {
   "cell_type": "markdown",
   "metadata": {},
   "source": [
    "Já em uma função que trabalha com argumentos, precisamos definir os nomes dos argumentos na criação, e para invocá-la, precisamos chamar a função com seus respectivos argumentos.\n",
    "\n",
    "É importante deixar claro, que ao invocar uma função com argumentos `diretos`, os argumentos devem ser passados na mesma ordem em que são solicitados na função. Isto ficaré claro no exemplo abaixo:"
   ]
  },
  {
   "cell_type": "code",
   "execution_count": null,
   "metadata": {},
   "outputs": [],
   "source": [
    "# definindo uma função com argumentos\n",
    "def segunda_funcao(arg1, arg2):\n",
    "    print(f\"O valor do primeiro argumento é: {arg1} e o valor do segundo argumento é {arg2}.\")\n",
    "\n",
    "# invocando a função\n",
    "segunda_funcao(\"Python\", \"Beco do Exploit\")"
   ]
  },
  {
   "cell_type": "markdown",
   "metadata": {},
   "source": [
    "Também é possível informar uma variável nos argumentos de uma função."
   ]
  },
  {
   "cell_type": "code",
   "execution_count": null,
   "metadata": {},
   "outputs": [],
   "source": [
    "# definindo as variáveis\n",
    "\n",
    "argumento1 = \"H41stur\"\n",
    "argumento2 = \"Python\"\n",
    "\n",
    "# invocando a função\n",
    "segunda_funcao(argumento1, argumento2)\n"
   ]
  },
  {
   "cell_type": "markdown",
   "metadata": {},
   "source": [
    "Uma outra forma de invocar uma função com argumentos é através de `parâmetros nomeados`. Utilizando esta forma, não é obrigatório que os argumentes estejam na mesma ordem da função."
   ]
  },
  {
   "cell_type": "code",
   "execution_count": null,
   "metadata": {},
   "outputs": [],
   "source": [
    "# invocando a função com parâmetros nomeados\n",
    "segunda_funcao(arg2=argumento2, arg1=argumento1)"
   ]
  },
  {
   "cell_type": "markdown",
   "metadata": {},
   "source": [
    "Dentro de uma função, podemos inserir qualquer tipo de instrução, com qualquer nível de complexidade."
   ]
  },
  {
   "cell_type": "code",
   "execution_count": null,
   "metadata": {},
   "outputs": [],
   "source": [
    "# definindo uma função\n",
    "def escrita(linha):\n",
    "    padrao = linha.lower()\n",
    "    with open('arquivo.txt', 'w') as f:\n",
    "        if 'beco' in padrao:\n",
    "            f.write(linha)\n",
    "        else:\n",
    "            print('A palavra \"Beco\" não foi encontrada!')\n",
    "\n",
    "\n",
    "# invocando a funcão\n",
    "var = 'Beco do Exploit'\n",
    "escrita(var)"
   ]
  },
  {
   "cell_type": "markdown",
   "metadata": {},
   "source": [
    "## Links para leitura\n",
    "\n",
    "* [Defining Your Own Python Function](https://realpython.com/defining-your-own-python-function/)"
   ]
  }
 ],
 "metadata": {
  "interpreter": {
   "hash": "916dbcbb3f70747c44a77c7bcd40155683ae19c65e1c03b4aa3499c5328201f1"
  },
  "kernelspec": {
   "display_name": "Python 3.9.2 64-bit",
   "language": "python",
   "name": "python3"
  },
  "language_info": {
   "codemirror_mode": {
    "name": "ipython",
    "version": 3
   },
   "file_extension": ".py",
   "mimetype": "text/x-python",
   "name": "python",
   "nbconvert_exporter": "python",
   "pygments_lexer": "ipython3",
   "version": "3.9.9"
  },
  "orig_nbformat": 4
 },
 "nbformat": 4,
 "nbformat_minor": 2
}
