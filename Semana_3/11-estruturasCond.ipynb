{
 "cells": [
  {
   "cell_type": "markdown",
   "metadata": {},
   "source": [
    "# ESTRUTURAS CONDICIONAIS\n",
    "\n",
    "<center><img width=\"60%\"  src=\"https://raw.githubusercontent.com/leonardo-multiverso/img/main/if.png\"></center>\n",
    "\n",
    "A partir deste ponto, vamos trabalhar com algumas estruturas que serão de extrema importancia em nossos scripts e darão vida para nossas ferramentas, ao longo das próximas aulas, vamos também aprender algumas outras funções além das que serão o tema principal.\n",
    "\n",
    "Existem vários níveis de complexidade para as estruturas condicionais, veremos a base de todas elas e o experimento trará conhecimento.\n",
    "\n",
    "É de extrema importância que a partir daqui, teremos que ter cuidado com indentação em nossos códigos, pois um simples \"espaço\" a mais ou a menos, pode causer erros em nossos scripts. A indentação consistem em 4 espaços ou um tab, desde que o tamanho do tab seja de 4 espaços.\n",
    "\n",
    "\n",
    "## If Statement\n",
    "\n",
    "O `if`, ou `se`, é uma estrutura condicional que sa beseia em `booleanos` para poder operar. Ele tem o poder de executar, ou pular trechos de código de acordo se sua condição é `True` ou `False`.\n",
    "\n",
    "Em sua forma mais simples, ele trabalha com 2 condições:"
   ]
  },
  {
   "cell_type": "code",
   "execution_count": 1,
   "metadata": {},
   "outputs": [
    {
     "name": "stdout",
     "output_type": "stream",
     "text": [
      "[+] Resposta OK\n"
     ]
    }
   ],
   "source": [
    "# associando um response\n",
    "status = 200\n",
    "\n",
    "# criando a condição\n",
    "if status == 200:\n",
    "    print('[+] Resposta OK')\n",
    "else:\n",
    "    print('[-] Erro na resposta.')"
   ]
  },
  {
   "cell_type": "code",
   "execution_count": 2,
   "metadata": {},
   "outputs": [
    {
     "name": "stdout",
     "output_type": "stream",
     "text": [
      "[-] Erro na resposta.\n"
     ]
    }
   ],
   "source": [
    "# associando um response\n",
    "status = 400\n",
    "\n",
    "# criando a condição\n",
    "if status == 200:\n",
    "    print('[+] Resposta OK')\n",
    "else:\n",
    "    print('[-] Erro na resposta.')"
   ]
  },
  {
   "cell_type": "markdown",
   "metadata": {},
   "source": [
    "O if também pode trabalhar com mais que duas condições a serem testadas, utilizando a opção `elif` que adiciona mias condiçoes à lógica.\n",
    "\n",
    "> `elif` é a contração de `else if`."
   ]
  },
  {
   "cell_type": "code",
   "execution_count": 6,
   "metadata": {},
   "outputs": [
    {
     "name": "stdout",
     "output_type": "stream",
     "text": [
      "[-] Server error\n"
     ]
    }
   ],
   "source": [
    "# associando um response\n",
    "status = 500\n",
    "\n",
    "# criando a condição\n",
    "if status == 200:\n",
    "    print('[+] Resposta OK')\n",
    "elif status == 500:\n",
    "    print('[-] Server error')\n",
    "else:\n",
    "    print('[-] Timeout.')"
   ]
  },
  {
   "cell_type": "markdown",
   "metadata": {},
   "source": [
    "## Funções úteis\n",
    "\n",
    "### input()\n",
    "\n",
    "A função `input()` nos permite receber dados que venham de `fora` do script através de um texto amigável que indica o recebimento destes dados.\n",
    "\n",
    "Sua sintaxe segue:\n",
    "\n",
    "> Variável = input('Texto amigável para o usuário')\n",
    "\n",
    "Isto faz com que a `Variável` receba o valor recebido pelo usuário.\n",
    "\n",
    "É de extrema importancia ressaltar que no Python3, tudo que entra pela função `input()`, é considerado string, logo, se for trabalhar com números, é preciso converter a variável que contenha a entrada.\n",
    "\n",
    "Vamos fazer um simples script para demonstrar: [script-01-ifInput.py](script-01-ifInput.py)."
   ]
  }
 ],
 "metadata": {
  "interpreter": {
   "hash": "916dbcbb3f70747c44a77c7bcd40155683ae19c65e1c03b4aa3499c5328201f1"
  },
  "kernelspec": {
   "display_name": "Python 3.9.2 64-bit",
   "language": "python",
   "name": "python3"
  },
  "language_info": {
   "codemirror_mode": {
    "name": "ipython",
    "version": 3
   },
   "file_extension": ".py",
   "mimetype": "text/x-python",
   "name": "python",
   "nbconvert_exporter": "python",
   "pygments_lexer": "ipython3",
   "version": "3.10.1"
  },
  "orig_nbformat": 4
 },
 "nbformat": 4,
 "nbformat_minor": 2
}
