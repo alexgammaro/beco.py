{
 "cells": [
  {
   "cell_type": "markdown",
   "metadata": {},
   "source": [
    "# Listas\n",
    "\n",
    "<center><img width=\"40%\"  src=\"https://github.com/leonardo-multiverso/img/blob/main/list.png?raw=true\"></center>\n",
    "\n",
    "As listas no Python são objetos que contêm sequências de valores. \n",
    "\n",
    "Um tipo de objeto que têm muita utilidade na programação, é muito parecido com uma `array`, porém, diferente destas, pode conter valores de vários tipos diferentes.\n",
    "\n",
    "Os valores dentro de uma lista, podem ser acessados através de um índice que referencia sua posição.\n",
    "\n",
    "Uma outra particularidade das listas, é que elas são mutáveis, ou seja, podem ser modificadas a qualquer momento durante um código.\n",
    "\n",
    "Para criar uma lista, associamos à uma variável utilizando colchetes `[]`:"
   ]
  },
  {
   "cell_type": "code",
   "execution_count": null,
   "metadata": {},
   "outputs": [],
   "source": [
    "# criando uma lista\n",
    "\n",
    "lista = []\n",
    "print(lista)\n",
    "type(lista)"
   ]
  },
  {
   "cell_type": "markdown",
   "metadata": {},
   "source": [
    "É possível associar quantos valores forem necessários dentro de uma lista, e estes valores podem ser de vários tipos diferentes:"
   ]
  },
  {
   "cell_type": "code",
   "execution_count": null,
   "metadata": {},
   "outputs": [],
   "source": [
    "# criando a lista com valores\n",
    "\n",
    "lista = ['Beco do Exploit', 443, 0.66, False]\n",
    "print(lista)"
   ]
  },
  {
   "cell_type": "markdown",
   "metadata": {},
   "source": [
    "É possível até mesmo inserir uma lista dentro de uma lista"
   ]
  },
  {
   "cell_type": "code",
   "execution_count": null,
   "metadata": {},
   "outputs": [],
   "source": [
    "# criando a lista com valores\n",
    "\n",
    "lista = ['Beco do Exploit', 443, 0.66, False, [200, 400]]\n",
    "print(lista)"
   ]
  },
  {
   "cell_type": "markdown",
   "metadata": {},
   "source": [
    "## Slicing de listas\n",
    "\n",
    "Assim como aprendemos o slicing com `strings`, podemos \"fatiar\" uma lista acessando seus índices.\n",
    "\n",
    "| \"Beco do Exploit\" | 443 | 0.66 | False | [200, 400] |\n",
    "|-----------|-------------|---------|---------|---------|\n",
    "| 0         | 1           | 2       | 3       | 4       |\n"
   ]
  },
  {
   "cell_type": "code",
   "execution_count": null,
   "metadata": {},
   "outputs": [],
   "source": [
    "# criando a lista\n",
    "\n",
    "lista = ['Beco do Exploit', 443, 0.66, False, [200, 400]]"
   ]
  },
  {
   "cell_type": "code",
   "execution_count": null,
   "metadata": {},
   "outputs": [],
   "source": [
    "# acessar os ultimos 3 valores\n",
    "\n",
    "print(lista[2:])"
   ]
  },
  {
   "cell_type": "code",
   "execution_count": null,
   "metadata": {},
   "outputs": [],
   "source": [
    "# acessar o primeiro valor\n",
    "\n",
    "print(lista[0])"
   ]
  },
  {
   "cell_type": "code",
   "execution_count": null,
   "metadata": {},
   "outputs": [],
   "source": [
    "# acessar o segundo valor da lista dentro da lista\n",
    "\n",
    "print(lista[-1][0])"
   ]
  },
  {
   "cell_type": "markdown",
   "metadata": {},
   "source": [
    "### Verificando se um item existe ou não dentro de uma lista\n",
    "\n",
    "É possível verificarmos se um item específico existe dentro de uma lista utilizando os operadores `in` e `not in`, que por sua vez, retornam um booleano."
   ]
  },
  {
   "cell_type": "code",
   "execution_count": null,
   "metadata": {},
   "outputs": [],
   "source": [
    "# criando a lista\n",
    "\n",
    "lista = ['Beco do Exploit', 443, 0.66, False, [200, 400]]"
   ]
  },
  {
   "cell_type": "code",
   "execution_count": null,
   "metadata": {},
   "outputs": [],
   "source": [
    "# verificar se o item \"Beco do Exploit\" existe na lista\n",
    "\n",
    "\"Beco do Exploit\" in lista"
   ]
  },
  {
   "cell_type": "code",
   "execution_count": null,
   "metadata": {},
   "outputs": [],
   "source": [
    "# verificar se um item não existe na lista\n",
    "\n",
    "608 not in lista"
   ]
  },
  {
   "cell_type": "markdown",
   "metadata": {},
   "source": [
    "### Adicionando e removendo itens da lista\n",
    "\n",
    "Uma lista também pode crescer ou diminuir de acordo com a necessidade do código.\n",
    "\n",
    "Para adicionar um item à uma lista, utilizamos o método `append()`.\n",
    "\n",
    "Já para excluir, podemos utilizar tanto o método `pop()`, quanto o método `remove()`. A diferença entre eles, é que no método `pop()`, removemos um item pelo seu índice, enquanto no método `remove()`, removemos o item pelo seu próprio valor."
   ]
  },
  {
   "cell_type": "code",
   "execution_count": null,
   "metadata": {},
   "outputs": [],
   "source": [
    "# criando a lista\n",
    "\n",
    "lista = ['Beco do Exploit', 443, 0.66, False, \"H41stur\"]"
   ]
  },
  {
   "cell_type": "code",
   "execution_count": null,
   "metadata": {},
   "outputs": [],
   "source": [
    "# Acrescentando itens à lista\n",
    "\n",
    "lista.append(\"Python\")\n",
    "print(lista)"
   ]
  },
  {
   "cell_type": "code",
   "execution_count": null,
   "metadata": {},
   "outputs": [],
   "source": [
    "# Excluindo o terceiro item da lista\n",
    "\n",
    "lista.pop(2)\n",
    "print(lista)"
   ]
  },
  {
   "cell_type": "code",
   "execution_count": null,
   "metadata": {},
   "outputs": [],
   "source": [
    "# Excluindo H41stur da lista\n",
    "\n",
    "lista.remove(\"H41stur\")\n",
    "print(lista)"
   ]
  },
  {
   "cell_type": "markdown",
   "metadata": {},
   "source": [
    "### Alterando itens da lista\n",
    "\n",
    "Uma vez que sabemos que uma lista é um objeto mutável, podemos alterar seus valores mesmo depois de definidos, para isso, precisamos somente informar em qual indice faremos esta alteração."
   ]
  },
  {
   "cell_type": "code",
   "execution_count": null,
   "metadata": {},
   "outputs": [],
   "source": [
    "# criando a lista\n",
    "\n",
    "lista = ['Beco do Exploit', 443, 0.66, False, [200, 400]]\n",
    "print(lista)"
   ]
  },
  {
   "cell_type": "code",
   "execution_count": null,
   "metadata": {},
   "outputs": [],
   "source": [
    "# Alterando o valor do indice 4 da lista\n",
    "\n",
    "lista[4] = \"Python\"\n",
    "print(lista)"
   ]
  },
  {
   "cell_type": "markdown",
   "metadata": {},
   "source": [
    "### Associando itens de uma lista à variáveis\n",
    "\n",
    "Através do slicing, podemos capturar valores específicos de uma lista e associá-los á variáveis"
   ]
  },
  {
   "cell_type": "code",
   "execution_count": null,
   "metadata": {},
   "outputs": [],
   "source": [
    "# criando a lista\n",
    "\n",
    "lista = ['Beco do Exploit', 443, 0.66, False, \"H41stur\"]\n",
    "\n",
    "host = lista[0]\n",
    "prof = lista[-1]\n",
    "\n",
    "print(host)\n",
    "print(prof)"
   ]
  }
 ],
 "metadata": {
  "interpreter": {
   "hash": "916dbcbb3f70747c44a77c7bcd40155683ae19c65e1c03b4aa3499c5328201f1"
  },
  "kernelspec": {
   "display_name": "Python 3.9.2 64-bit",
   "language": "python",
   "name": "python3"
  },
  "language_info": {
   "codemirror_mode": {
    "name": "ipython",
    "version": 3
   },
   "file_extension": ".py",
   "mimetype": "text/x-python",
   "name": "python",
   "nbconvert_exporter": "python",
   "pygments_lexer": "ipython3",
   "version": "3.10.1"
  },
  "orig_nbformat": 4
 },
 "nbformat": 4,
 "nbformat_minor": 2
}
