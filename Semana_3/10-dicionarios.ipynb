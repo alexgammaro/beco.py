{
 "cells": [
  {
   "cell_type": "markdown",
   "metadata": {},
   "source": [
    "# Dicionários\n",
    "\n",
    "<center><img width=\"60%\"  src=\"https://github.com/leonardo-multiverso/img/blob/main/header.png?raw=true\"></center>\n",
    "\n",
    "Os dicionários são um tipo de objeto que guardam valores do tipo `chave` -> `valor`. Estas chaves e valores podem ser acessadas individualmente e também podem ser vir de referência para outras partes de um código.\n",
    "\n",
    "Os dicionários, assim como as listas, podem conter qualquer tipo de dado e também são mutáveis, ou seja, podem ser modificados a qualquer momento.\n",
    "\n",
    "Para separar as chaves dos valores, utilizamos 2 pontos `:`, já para separar os pares, utilizamos vírgula.\n",
    "\n",
    "Para criar um dicionário, basta atribuí-lo à uma variável com chaves `{}`:"
   ]
  },
  {
   "cell_type": "code",
   "execution_count": null,
   "metadata": {},
   "outputs": [],
   "source": [
    "# criando um dicionário\n",
    "\n",
    "dicionario = {}\n",
    "print(dicionario)\n",
    "type(dicionario)"
   ]
  },
  {
   "cell_type": "code",
   "execution_count": null,
   "metadata": {},
   "outputs": [],
   "source": [
    "# criando um dicionario com dados\n",
    "\n",
    "dicionario = {\"host\": \"Beco do exploit\", \"curso\": \"Python\"}\n",
    "print(dicionario)"
   ]
  },
  {
   "cell_type": "markdown",
   "metadata": {},
   "source": [
    "## Acessando valores do dicionário\n",
    "\n",
    "Para acessar o valor de uma determinada chave, basta chamar o nome do dicionário seguido com sua chave entre aspas simples ou duplas, dentro de colchetes."
   ]
  },
  {
   "cell_type": "code",
   "execution_count": null,
   "metadata": {},
   "outputs": [],
   "source": [
    "# chamando o valor de uma chave do dicionário\n",
    "\n",
    "dicionario = {\"host\": \"Beco do exploit\", \"curso\": \"Python\"}\n",
    "print(dicionario[\"host\"])"
   ]
  },
  {
   "cell_type": "markdown",
   "metadata": {},
   "source": [
    "## Adicionando itens ao dicionário\n",
    "\n",
    "Assim como nas listas, também podemos adicionar itens ao dicionário, para isso, é preciso informar o nome do dicionário seguido do nome da nova chave entre colchetes e aspas e atribuir um valor a ela."
   ]
  },
  {
   "cell_type": "code",
   "execution_count": null,
   "metadata": {},
   "outputs": [],
   "source": [
    "# criando um novo par de chave e valor no dicionário\n",
    "\n",
    "dicionario = {\"host\": \"Beco do exploit\", \"curso\": \"Python\"}\n",
    "print(dicionario)\n",
    "\n",
    "dicionario['aula'] = 3\n",
    "print(dicionario)"
   ]
  },
  {
   "cell_type": "code",
   "execution_count": null,
   "metadata": {},
   "outputs": [],
   "source": [
    "# adicionando valores ao dicionário\n",
    "\n",
    "dicionario[\"assunto\"] = \"dicionários\"\n",
    "print(dicionario)"
   ]
  },
  {
   "cell_type": "code",
   "execution_count": null,
   "metadata": {},
   "outputs": [],
   "source": [
    "# acessando o novo valor\n",
    "\n",
    "print(dicionario['aula'])"
   ]
  },
  {
   "cell_type": "markdown",
   "metadata": {},
   "source": [
    "## Alterando itens de um dicionário\n",
    "\n",
    "Tambérm é possível alterar o valor de uma chave dentro de um dicionário já criado, bastando informar o nome do dicionário, seguido da chave entre aspas e colchetes informando seu novo valor."
   ]
  },
  {
   "cell_type": "code",
   "execution_count": null,
   "metadata": {},
   "outputs": [],
   "source": [
    "# alterando o valor de uma chave do cicionário\n",
    "\n",
    "dicionario['host'] = 'Beco do XPL'\n",
    "print(dicionario)"
   ]
  },
  {
   "cell_type": "markdown",
   "metadata": {},
   "source": [
    "## Observação importante\n",
    "\n",
    "Um dicionário não pode ter chaves duplicadas, pois ao tentar associar uma nova chave com o mesmo nome de uma chave existente, o Python entenderá que você deseja alterar o valor da chave existente, e não adicionar uma nova com o mesmo nome.\n",
    "\n",
    "Por outro lado, os valores não tem restrições, podendo se duplicar sem problema algum.\n",
    "\n",
    "## Trabalhando com dicionários\n",
    "\n",
    "Assim como vimos nas listas, os dicionários possuem alguns metodos *built in* que nos ajudam em sua manipulação.\n",
    "\n",
    "### Metodo pop() e popitem()\n",
    "\n",
    "O metodo `pop()` nos permite remover um par de chave e valor de um dicionário o referenciando pela chave.\n",
    "> dicionario.pop('chave')\n",
    "\n",
    "Já o metodo `popitem()` nos permite exluir o ultimo valor dentro do dicionário.\n",
    "> dicionario.popitem()"
   ]
  },
  {
   "cell_type": "code",
   "execution_count": null,
   "metadata": {},
   "outputs": [],
   "source": [
    "# removendo um par de chave e valor\n",
    "\n",
    "print(f'Dicionário inicial: {dicionario}')\n",
    "\n",
    "dicionario.pop('curso')\n",
    "print(f'Dicionário final: {dicionario}')"
   ]
  },
  {
   "cell_type": "code",
   "execution_count": null,
   "metadata": {},
   "outputs": [],
   "source": [
    "# removendo o ultimo item do dicionario\n",
    "\n",
    "dicionario.popitem()\n",
    "print(dicionario)"
   ]
  },
  {
   "cell_type": "markdown",
   "metadata": {},
   "source": [
    "### Metodo .get()\n",
    "\n",
    "O metodo `get()` nos permite obter o valor de uma determinada chave dentro de um dicionário através de sua chave.\n",
    "> dicionario.get('chave')"
   ]
  },
  {
   "cell_type": "code",
   "execution_count": null,
   "metadata": {},
   "outputs": [],
   "source": [
    "# buscando o valor de uma chave\n",
    "\n",
    "dicionario = {'host': 'Beco do XPL', 'curso': 'Python', 'aula': 3}\n",
    "\n",
    "print(dicionario.get('curso'))"
   ]
  },
  {
   "cell_type": "code",
   "execution_count": null,
   "metadata": {},
   "outputs": [],
   "source": [
    "# também é possível somente chamando o dicionário e a chave\n",
    "\n",
    "print(dicionario['curso'])"
   ]
  },
  {
   "cell_type": "markdown",
   "metadata": {},
   "source": [
    "### Metodo .keys()\n",
    "\n",
    "O metodo `keys()` nos mostra todas as chaves contidas em um dicionário.\n",
    "> dicionario.keys()"
   ]
  },
  {
   "cell_type": "code",
   "execution_count": null,
   "metadata": {},
   "outputs": [],
   "source": [
    "# visualizando as chaves de um dicionário\n",
    "\n",
    "print(dicionario.keys())"
   ]
  },
  {
   "cell_type": "markdown",
   "metadata": {},
   "source": [
    "### Metodo .values()\n",
    "\n",
    "Assim como o metodo keys() nos permite obter as chaves, o metodo `values()` nos mostra todos os valores de um dicionério.\n",
    "> dicionario.values()"
   ]
  },
  {
   "cell_type": "code",
   "execution_count": null,
   "metadata": {},
   "outputs": [],
   "source": [
    "# visualizando todos os valores de um dicionério\n",
    "\n",
    "print(dicionario.values())"
   ]
  },
  {
   "cell_type": "markdown",
   "metadata": {},
   "source": [
    "### Metodo .items()\n",
    "\n",
    "O metodo `items()` nos retorna todos os itens dentro de um dicionário.\n",
    "\n",
    "Para cada par de chave e valor dentro do dicionário, o Python cria uma tupla.\n",
    "> dicionario.items()"
   ]
  },
  {
   "cell_type": "code",
   "execution_count": null,
   "metadata": {},
   "outputs": [],
   "source": [
    "# Consultando os itens de um dicionario\n",
    "\n",
    "print(dicionario.items())"
   ]
  },
  {
   "cell_type": "markdown",
   "metadata": {},
   "source": [
    "### Metodo .update()\n",
    "\n",
    "O metodo `update()` é utilizado para juntar dois dicionários, é importante ressaltar que:\n",
    "\n",
    "* Se uma chave não existe no primeiro dicionário e exista no segundo, ela será criada no dicionário final\n",
    "* Se uma chave já exista no primeiro dicionário, porém tem outro valor no segundo dicionário, o valor será atualizado no dicion;ario final\n",
    "\n",
    "> dicionario1.update(dicionario2)"
   ]
  },
  {
   "cell_type": "code",
   "execution_count": null,
   "metadata": {},
   "outputs": [],
   "source": [
    "# juntando 2 dicionários\n",
    "\n",
    "dict1 = {'host': 'Beco do Exploit', 'curso': 'Python', 'aula': 3}\n",
    "dict2 = {'host': 'Beco do XPL', 'curso': 'Python', 'aula': 3, 'ta legal??': True}\n",
    "\n",
    "print('Dicionário 1:', dict1)\n",
    "print('Dicionário 2:', dict2)\n",
    "\n",
    "dict1.update(dict2)\n",
    "print('Dicionário final:', dict1)"
   ]
  },
  {
   "cell_type": "markdown",
   "metadata": {},
   "source": [
    "Como podemos ver:\n",
    "\n",
    "* O valor da chave \"host\" estava diferente no dicionário 2, logo foi atualizado no final\n",
    "* A chave \"ta legal??\" não existia no dicionário 1 e existia no 2, logo foi inserida no dicionário final\n",
    "* Os demais pares de chave e valor que se correspondiam, não foram alterados\n",
    "\n",
    "\n",
    "### Metodo .clear()\n",
    "\n",
    "Por fim, o metodo `clear()` tem a função de limpar um dicionário de deixá-lo vazio.\n",
    ">dicionario.clear()"
   ]
  },
  {
   "cell_type": "code",
   "execution_count": null,
   "metadata": {},
   "outputs": [],
   "source": [
    "# limpando um dicionário\n",
    "\n",
    "dicionario = {'host': 'Beco do XPL', 'curso': 'Python', 'aula': 2}\n",
    "print(dicionario)\n",
    "\n",
    "dicionario.clear()\n",
    "print(dicionario)"
   ]
  },
  {
   "cell_type": "code",
   "execution_count": null,
   "metadata": {},
   "outputs": [],
   "source": [
    "dicionario = {'host': 'Beco do XPL', 'curso': 'Python', 'aula': 2}\n",
    "print(dicionario)\n",
    "\n",
    "dicionario[\"aula\"] = \"\"\n",
    "\n",
    "print(dicionario)"
   ]
  }
 ],
 "metadata": {
  "interpreter": {
   "hash": "916dbcbb3f70747c44a77c7bcd40155683ae19c65e1c03b4aa3499c5328201f1"
  },
  "kernelspec": {
   "display_name": "Python 3.9.2 64-bit",
   "language": "python",
   "name": "python3"
  },
  "language_info": {
   "codemirror_mode": {
    "name": "ipython",
    "version": 3
   },
   "file_extension": ".py",
   "mimetype": "text/x-python",
   "name": "python",
   "nbconvert_exporter": "python",
   "pygments_lexer": "ipython3",
   "version": "3.10.1"
  },
  "orig_nbformat": 4
 },
 "nbformat": 4,
 "nbformat_minor": 2
}
