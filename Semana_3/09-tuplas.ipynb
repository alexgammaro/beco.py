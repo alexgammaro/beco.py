{
 "cells": [
  {
   "cell_type": "markdown",
   "metadata": {},
   "source": [
    "# Tuplas\n",
    "\n",
    "<center><img width=\"40%\"  src=\"https://github.com/leonardo-multiverso/img/blob/main/tuple.jpeg?raw=true\"></center>\n",
    "\n",
    "As tuplas são elementos muito parecidos com as listas, com a diferença de que são imutáveis, ou seja, a partir do momento em que uma tupla foi criada, é **impossível**, adicionar, remover ou alterar um item.\n",
    "\n",
    "Para criar uma tupla, associamos à uma variável utilizando parênteses `()`:"
   ]
  },
  {
   "cell_type": "code",
   "execution_count": null,
   "metadata": {},
   "outputs": [],
   "source": [
    "# criando uma tupla\n",
    "\n",
    "tupla = ()\n",
    "print(tupla)\n",
    "type(tupla)"
   ]
  },
  {
   "cell_type": "markdown",
   "metadata": {},
   "source": [
    "## OBSERVAÇÃO IMPORTANTE\n",
    "\n",
    "No caso da necessidade de criar uma tupla com um único valor, é preciso inserir uma vírgula, pois o Python interpreta `()` como operadores matemáticos."
   ]
  },
  {
   "cell_type": "code",
   "execution_count": null,
   "metadata": {},
   "outputs": [],
   "source": [
    "# criando a tupla com um único valor, sem vírgula\n",
    "\n",
    "tupla = (600)\n",
    "print(tupla)\n",
    "type(tupla)"
   ]
  },
  {
   "cell_type": "code",
   "execution_count": null,
   "metadata": {},
   "outputs": [],
   "source": [
    "# criando a tupla com um único valor, com vírgula\n",
    "\n",
    "tupla = (600,)\n",
    "print(tupla)\n",
    "type(tupla)\n"
   ]
  },
  {
   "cell_type": "code",
   "execution_count": null,
   "metadata": {},
   "outputs": [],
   "source": [
    "# Exemplo de tupla\n",
    "\n",
    "tupla = ('Beco do Exploit', 443, 0.66, False, [200, 400])"
   ]
  },
  {
   "cell_type": "markdown",
   "metadata": {},
   "source": [
    "Assim como nas listas, também podemos acessar valores das tuplas através de seus indices."
   ]
  },
  {
   "cell_type": "code",
   "execution_count": null,
   "metadata": {},
   "outputs": [],
   "source": [
    "# Exemplo de tupla\n",
    "\n",
    "tupla = ('Beco do Exploit', 443, 0.66, False, [200, 400])"
   ]
  },
  {
   "cell_type": "code",
   "execution_count": null,
   "metadata": {},
   "outputs": [],
   "source": [
    "# Acessando valor na tupla\n",
    "\n",
    "print(tupla[0])"
   ]
  }
 ],
 "metadata": {
  "interpreter": {
   "hash": "916dbcbb3f70747c44a77c7bcd40155683ae19c65e1c03b4aa3499c5328201f1"
  },
  "kernelspec": {
   "display_name": "Python 3.9.2 64-bit",
   "language": "python",
   "name": "python3"
  },
  "language_info": {
   "codemirror_mode": {
    "name": "ipython",
    "version": 3
   },
   "file_extension": ".py",
   "mimetype": "text/x-python",
   "name": "python",
   "nbconvert_exporter": "python",
   "pygments_lexer": "ipython3",
   "version": "3.10.1"
  },
  "orig_nbformat": 4
 },
 "nbformat": 4,
 "nbformat_minor": 2
}
