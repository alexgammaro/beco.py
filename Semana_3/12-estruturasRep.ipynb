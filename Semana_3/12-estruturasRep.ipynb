{
 "cells": [
  {
   "cell_type": "markdown",
   "metadata": {},
   "source": [
    "# ESTRUTURAS DE REPETIÇÃO\n",
    "\n",
    "<center><img width=\"60%\"  src=\"https://raw.githubusercontent.com/leonardo-multiverso/img/main/for.png\"></center>\n",
    "\n",
    "Nesta aula, veremos as bases para diferentes tipos de repetição que podemos inserir em nossos scripts.\n",
    "\n",
    "\n",
    "## For loops\n",
    "\n",
    "O `for loop` ou `laço for`, nos permite repetir determinadas ações sem que seja necessário repetir operações. O `for` permite que uma determinada ação seja repetida até que uma condição `finita` seja atingida."
   ]
  },
  {
   "cell_type": "code",
   "execution_count": null,
   "metadata": {},
   "outputs": [],
   "source": [
    "# listando números de um range\n",
    "for batata in range(20):\n",
    "\n",
    "    print(f\"Estamos na batata: {batata}\")"
   ]
  },
  {
   "cell_type": "markdown",
   "metadata": {},
   "source": [
    "O for, também pode ser utilizado com outros objetos, como listas:"
   ]
  },
  {
   "cell_type": "code",
   "execution_count": null,
   "metadata": {},
   "outputs": [],
   "source": [
    "# associando uma lista\n",
    "lista = ['Beco do Exploit', 'Python', 'if', 'for']\n",
    "\n",
    "# laço para imprimir os itens da lista\n",
    "for i in lista:\n",
    "    print(i)"
   ]
  },
  {
   "cell_type": "code",
   "execution_count": null,
   "metadata": {},
   "outputs": [],
   "source": [
    "dicionario = {\"host\": \"Beco do exploit\", \"curso\": \"Python\"}\n",
    "\n",
    "for i in dicionario:\n",
    "    print(i)"
   ]
  },
  {
   "cell_type": "markdown",
   "metadata": {},
   "source": [
    "Dentro do laço, podemos manipular os dados da forma que precisarmos:"
   ]
  },
  {
   "cell_type": "code",
   "execution_count": null,
   "metadata": {},
   "outputs": [],
   "source": [
    "# associando uma lista\n",
    "lista = ['Beco do Exploit', 'Python', 'if', 'for']\n",
    "\n",
    "# laço para imprimir os itens da lista\n",
    "for i in lista:\n",
    "    i = i.upper()\n",
    "    print(i)"
   ]
  },
  {
   "cell_type": "code",
   "execution_count": null,
   "metadata": {},
   "outputs": [],
   "source": [
    "dicionario = {\"host\": \"Beco do exploit\", \"curso\": \"Python\"}\n",
    "\n",
    "for a in dicionario:\n",
    "    valor = dicionario[a]\n",
    "    print(f\"A chave é: {a} e o valor é {valor}\")\n",
    "\n"
   ]
  },
  {
   "cell_type": "markdown",
   "metadata": {},
   "source": [
    "Assim como também podemos utilizar outras funções dentro do laço:"
   ]
  },
  {
   "cell_type": "code",
   "execution_count": null,
   "metadata": {},
   "outputs": [],
   "source": [
    "# associando uma lista\n",
    "lista = ['Beco do Exploit', 'Python', 'if', 'for']\n",
    "\n",
    "# laço para imprimir os itens da lista\n",
    "for i in lista:\n",
    "    i = i.upper()\n",
    "    if \"BECO\" in i:\n",
    "        print(\"[+] Beco encontrado!\")"
   ]
  },
  {
   "cell_type": "code",
   "execution_count": null,
   "metadata": {},
   "outputs": [],
   "source": [
    "# associando uma lista\n",
    "lista = ['Beco do Exploit', 'Python', 'if', 'for']\n",
    "\n",
    "# laço para imprimir os itens da lista\n",
    "for i in lista:\n",
    "    i = i.upper()\n",
    "    if \"IF\" in i:\n",
    "        print(\"[+] Beco encontrado!\")\n",
    "    else:\n",
    "        print(\"[-] Beco não encontrado!\")"
   ]
  },
  {
   "cell_type": "code",
   "execution_count": null,
   "metadata": {},
   "outputs": [],
   "source": [
    "# associando uma lista\n",
    "lista = ['Beco do Exploit', 'Python', 'if', 'for']\n",
    "\n",
    "# laço para imprimir os itens da lista\n",
    "for i in lista:\n",
    "    i = i.upper()\n",
    "    if \"IF\" in i:\n",
    "        print(\"[+] Beco encontrado!\")\n",
    "        break\n",
    "    else:\n",
    "        print(\"[-] Beco não encontrado!\")"
   ]
  },
  {
   "cell_type": "code",
   "execution_count": null,
   "metadata": {},
   "outputs": [],
   "source": [
    "# associando uma lista\n",
    "lista = ['Beco do Exploit', 'Python', 'if', 'for']\n",
    "\n",
    "# variavel contagem\n",
    "cont = 0\n",
    "\n",
    "# laço para imprimir os itens da lista\n",
    "for i in lista:\n",
    "    i = i.upper()\n",
    "    cont += 1 # cont = cont + 1\n",
    "    if \"IF\" in i:\n",
    "        print(f\"[+] IF encontrado no item {cont} e na posição {cont - 1}!\")"
   ]
  },
  {
   "cell_type": "markdown",
   "metadata": {},
   "source": [
    "## While loops\n",
    "\n",
    "O `while loop` é muito similar ao `for`, porém enquando no for, informamos explicitamente a quantidade de repetições, no while, a repetição continua até que uma condição específica seja atingida.\n",
    "\n",
    "O while exige etenção para que não sejam gerados `loops infinitos` que travam a execução de um script e podem até causar um crash na máquina. (Por mais que loops infinitos possam ser úteis em algumas ocasiões)."
   ]
  },
  {
   "cell_type": "code",
   "execution_count": null,
   "metadata": {},
   "outputs": [],
   "source": [
    "# criando uma variável inicial\n",
    "tentativas = 1\n",
    "\n",
    "print('O valor inicial de tentativas é', tentativas)\n",
    "\n",
    "# criando o laço while\n",
    "while tentativas < 10:\n",
    "    print('Agora estamos na tentativa', tentativas)\n",
    "    tentativas += 1 # mesma coisa que tentativas = tentativas + 1\n",
    "    \n",
    "\n",
    "print('O valor final de tentativas é', tentativas)"
   ]
  },
  {
   "cell_type": "markdown",
   "metadata": {},
   "source": [
    "## Funções úteis\n",
    "\n",
    "### open()\n",
    "\n",
    "A função `open()` nos permite literalmente abrir um arquivo externo ao script.\n",
    "\n",
    "A função open(), recebe por padrão 2 argumentos: o `caminho para o arquivo a ser aberto`, e o modo como o arquivo será aberto.\n",
    "\n",
    "> open('path para o arquivo', 'modo de abertura')\n",
    "\n",
    "Se o modo de abertura não for informado, o Python automaticamente reconhece como `\"r\"` que é para leitura, porém os seguintes modos existem:\n",
    "\n",
    "| **Modo** | **Descrição** | **Exemplo** |\n",
    "|:-----:|:-----:|:-----:|\n",
    "|\"r\"| Abre um arquivo como somente leitura (read) | file = open('usuarios.txt', 'r')|\n",
    "|\"rb\"| Abre um arquivo como somente leitura em formato binário (read bytes) | file = open('usuarios.txt', 'rb')|\n",
    "|\"w\"| Abre um arquivo para escrita, lembrando que ele apaga todo o conteúdo do arquivo toda vez que o abre (write) | file = open('usuarios.txt', 'w')|\n",
    "|\"wb\"| Abre um arquivo para escrita em bytes, lembrando que ele apaga todo o conteúdo do arquivo toda vez que o abre (write bytes) | file = open('usuarios.txt', 'wb')|\n",
    "|\"a\"| Abre um arquivo para escrita, porém escreve novas entradas ao final do arquivo (append) | file = open('usuarios.txt', 'a')|\n",
    "\n",
    "\n",
    "Vamos testar no script a seguir para escrever o conteúdo de uma lista:"
   ]
  },
  {
   "cell_type": "code",
   "execution_count": null,
   "metadata": {},
   "outputs": [],
   "source": [
    "# definindo a lista\n",
    "lista = ['Beco do Exploit', 'Python', 'if']\n",
    "\n",
    "# abrindo um arquivo\n",
    "file = open('lista.txt', 'w')\n",
    "\n",
    "# definindo o loop de escrita\n",
    "for i in lista:\n",
    "    i += '\\n'\n",
    "    file.write(i)\n",
    "\n",
    "# fechando o arquivo\n",
    "file.close()"
   ]
  },
  {
   "cell_type": "code",
   "execution_count": null,
   "metadata": {},
   "outputs": [],
   "source": [
    "# definindo a lista\n",
    "lista = ['Beco do Exploit', 'Python', 'if']\n",
    "\n",
    "# abrindo um arquivo\n",
    "file = open('lista.txt', 'a')\n",
    "\n",
    "# definindo o loop de escrita\n",
    "for i in lista:\n",
    "    i += '\\n'\n",
    "    file.write(i)\n",
    "\n",
    "# fechando o arquivo\n",
    "file.close()"
   ]
  },
  {
   "cell_type": "code",
   "execution_count": null,
   "metadata": {},
   "outputs": [],
   "source": [
    "# lendo o arquivo\n",
    "file = open('lista.txt', 'r')\n",
    "\n",
    "# definindo o loop de leitura\n",
    "for i in file:\n",
    "    i = i.strip()\n",
    "    print(i)\n",
    "\n",
    "# fechando o arquivo\n",
    "file.close()"
   ]
  },
  {
   "cell_type": "markdown",
   "metadata": {},
   "source": [
    "### with statement\n",
    "\n",
    "O `with` no Python é utilizado para gerenciar os recursos comuns como fluxos de arquivos, sem a necessidade de fechar o arquivo, pois o with já entende que ao fim de sua operação, o arquivo deverá ser fechado.\n",
    "\n",
    "Abaixo faremos o mesmo script de leitura do arquivo com with:"
   ]
  },
  {
   "cell_type": "code",
   "execution_count": null,
   "metadata": {},
   "outputs": [],
   "source": [
    "# lendo o arquivo com with\n",
    "with open('lista.txt', 'r') as f:\n",
    "    for i in f:\n",
    "        i = i.strip()\n",
    "        print(i)"
   ]
  },
  {
   "cell_type": "markdown",
   "metadata": {},
   "source": [
    "Para melhor entendimento, vamos analisar o script [script-02-loop.py](script-02-loop.py) onde faremos uma leitura de um arquivo de `usuario:senha` e imprimiremos cada um separadamente em uma string."
   ]
  },
  {
   "cell_type": "markdown",
   "metadata": {},
   "source": [
    "## Links para leitura\n",
    "\n",
    "* [Python IF, ELIF, and ELSE Statements](https://www.datacamp.com/community/tutorials/python-if-elif-else?utm_source=adwords_ppc&utm_campaignid=1455363063&utm_adgroupid=65083631748&utm_device=c&utm_keyword=&utm_matchtype=b&utm_network=g&utm_adpostion=&utm_creative=332602034358&utm_targetid=aud-763347114660:dsa-429603003980&utm_loc_interest_ms=&utm_loc_physical_ms=1001541&gclid=Cj0KCQjwqfz6BRD8ARIsAIXQCf1MGDFRGhMs13eZ_Q2dHNyb1wQ4eH3rXExvMVLNeaix3120qMlynOEaAonPEALw_wcB)\n",
    "* [With statement](https://www.geeksforgeeks.org/with-statement-in-python/)\n",
    "* [Open](https://codefather.tech/blog/python-with-open/)"
   ]
  }
 ],
 "metadata": {
  "interpreter": {
   "hash": "916dbcbb3f70747c44a77c7bcd40155683ae19c65e1c03b4aa3499c5328201f1"
  },
  "kernelspec": {
   "display_name": "Python 3.9.2 64-bit",
   "language": "python",
   "name": "python3"
  },
  "language_info": {
   "codemirror_mode": {
    "name": "ipython",
    "version": 3
   },
   "file_extension": ".py",
   "mimetype": "text/x-python",
   "name": "python",
   "nbconvert_exporter": "python",
   "pygments_lexer": "ipython3",
   "version": "3.10.1"
  },
  "orig_nbformat": 4
 },
 "nbformat": 4,
 "nbformat_minor": 2
}
